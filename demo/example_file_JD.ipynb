{
 "cells": [
  {
   "cell_type": "code",
   "execution_count": 9,
   "metadata": {},
   "outputs": [],
   "source": [
    "import numpy as np\n",
    "import pandas as pd\n",
    "import os\n",
    "import matplotlib.pyplot as plt  \n"
   ]
  },
  {
   "cell_type": "markdown",
   "metadata": {},
   "source": [
    "## This is a demo file for pyCCUS test drive, designed for JD"
   ]
  },
  {
   "cell_type": "markdown",
   "metadata": {},
   "source": [
    "#### Step 1: have your CMG model ready as the input to pyCCUS\n",
    "#### Step 2: get your parameter space ready\n",
    "- This example demo alters the values of permeability, porosity, and injection rate"
   ]
  },
  {
   "cell_type": "code",
   "execution_count": 10,
   "metadata": {},
   "outputs": [],
   "source": [
    "##### User input #####\n",
    "# folder_path = '../data/omv/CCS/testdrive1'\n",
    "folder_path = '..\\\\data\\\\omv\\\\CCS\\\\testdrive1'\n",
    "\n",
    "params = ['phi',\n",
    "          'perm_mult, md',\n",
    "          'inj_rate, m3/d']\n",
    "\n",
    "l_bounds = [0.15, 8000, 1e6]\n",
    "u_bounds = [0.25, 11000, 9e6]\n",
    "\n",
    "num_of_exp = 3\n",
    "##### User input #####"
   ]
  },
  {
   "cell_type": "code",
   "execution_count": null,
   "metadata": {},
   "outputs": [],
   "source": [
    "##### Latin Hyper Cube sampling to create the params space #####\n",
    "from scipy.stats import qmc\n",
    "sampler = qmc.LatinHypercube(d=len(params))\n",
    "sample = sampler.random(n=num_of_exp)\n",
    "\n",
    "sample_scaled = qmc.scale(sample, l_bounds, u_bounds)\n",
    "\n",
    "df = pd.DataFrame(data=np.round(sample_scaled,2), columns=params)\n",
    "\n",
    "df['perm, md'] = df['phi'] * df['perm_mult, md']\n",
    "\n",
    "##### Save your exp design if needed #####\n",
    "if not os.path.isdir(folder_path):\n",
    "    os.makedirs(folder_path)\n",
    "df.to_csv(os.path.join(folder_path, 'exp_design.csv'), index=False)"
   ]
  },
  {
   "cell_type": "markdown",
   "metadata": {},
   "source": [
    "- Write CMG models (dat files) based on the DoE"
   ]
  },
  {
   "cell_type": "code",
   "execution_count": 11,
   "metadata": {},
   "outputs": [],
   "source": [
    "df = pd.read_csv(os.path.join(folder_path, 'exp_design.csv'))\n",
    "df_input = df.iloc[:,[0,2,3]]\n",
    "df_input = df_input.rename(columns={'phi': 'phi', \n",
    "                                    'inj_rate, m3/d': 'inj_rate',\n",
    "                                    'perm, md': 'perm'})"
   ]
  },
  {
   "cell_type": "code",
   "execution_count": 12,
   "metadata": {},
   "outputs": [],
   "source": [
    "import sys\n",
    "# append the path of the parent directory\n",
    "sys.path.append(\"..\")\n",
    "# import method from sibling module\n",
    "from utils.pyCMG_Model import omv_CCS\n",
    "from utils.pySherlock import pysherlock"
   ]
  },
  {
   "cell_type": "code",
   "execution_count": 13,
   "metadata": {},
   "outputs": [],
   "source": [
    "omvccs = omv_CCS()\n",
    "omvccs.folder_path = folder_path\n",
    "omvccs.title1 = 'pyCCUS testdrive'\n",
    "omvccs.title2 = 'CCS omv'\n",
    "omvccs.title3 = 'JD+YL'"
   ]
  },
  {
   "cell_type": "code",
   "execution_count": 14,
   "metadata": {},
   "outputs": [
    {
     "name": "stdout",
     "output_type": "stream",
     "text": [
      "Job done -- write 3 CMG dat files based on exp design csv .....\n"
     ]
    }
   ],
   "source": [
    "omvccs.write_simfiles(df_input=df_input, verbose=True)"
   ]
  },
  {
   "cell_type": "markdown",
   "metadata": {},
   "source": [
    "## Run CMG files\n",
    "- Option 1: local win machine\n",
    "- Option 2: Stanford sherlock HPC"
   ]
  },
  {
   "cell_type": "code",
   "execution_count": 7,
   "metadata": {},
   "outputs": [],
   "source": [
    "from utils.pyCMG_Control import pycmgcontrol\n",
    "\n",
    "for nn in range(df_input.shape[0]):\n",
    "    pycmg_ctrl = pycmgcontrol(exp_name=f'case{nn+1}.dat', simfolder=os.path.join(folder_path, 'datfiles'))\n",
    "    # Available optoins: 'ese-win32-v2022.30', 'ese-ts1win-v2023.20', 'stf-sherlock-v2020.10', 'ese-ts2win-v2024.20'\n",
    "    pycmg_ctrl.cmg_version = 'ese-ts2win-v2024.20'\n",
    "\n",
    "    pycmg_ctrl.run_gem_simulation(case_name_suffix=f'case{nn+1}.dat')"
   ]
  },
  {
   "cell_type": "markdown",
   "metadata": {},
   "source": [
    "### Option 2: run CMG on Sherlock\n",
    "- You will also need submit.sh file"
   ]
  },
  {
   "cell_type": "code",
   "execution_count": null,
   "metadata": {},
   "outputs": [],
   "source": [
    "# sherlock = pysherlock()\n",
    "# pyCTRL_folder_path = os.path.join(folder_path, 'pyCTRLfiles')\n",
    "\n",
    "# for idx in range(df_input.shape[0]):\n",
    "#     sherlock.write_pyCTRLfile(folder_path=pyCTRL_folder_path, caseid=idx+1)"
   ]
  },
  {
   "cell_type": "markdown",
   "metadata": {},
   "source": [
    "### Extract the result in npy format"
   ]
  },
  {
   "cell_type": "code",
   "execution_count": 15,
   "metadata": {},
   "outputs": [],
   "source": [
    "from utils.pyCMG_Control import pycmgcontrol"
   ]
  },
  {
   "cell_type": "code",
   "execution_count": 18,
   "metadata": {
    "scrolled": true
   },
   "outputs": [
    {
     "ename": "ValueError",
     "evalue": "The CMG version  is not implemented in wrt_cmgrwd_grids function [utils.pyCMG_Simulator]",
     "output_type": "error",
     "traceback": [
      "\u001b[1;31m---------------------------------------------------------------------------\u001b[0m",
      "\u001b[1;31mValueError\u001b[0m                                Traceback (most recent call last)",
      "\u001b[1;32m<ipython-input-18-a539dfe63f61>\u001b[0m in \u001b[0;36m<module>\u001b[1;34m\u001b[0m\n\u001b[0;32m     14\u001b[0m     \u001b[0mpycmg_ctrl\u001b[0m\u001b[1;33m.\u001b[0m\u001b[0my_dir_key\u001b[0m \u001b[1;33m=\u001b[0m \u001b[1;34m'Y'\u001b[0m\u001b[1;33m\u001b[0m\u001b[1;33m\u001b[0m\u001b[0m\n\u001b[0;32m     15\u001b[0m \u001b[1;33m\u001b[0m\u001b[0m\n\u001b[1;32m---> 16\u001b[1;33m     pycmg_ctrl.cmgrst2npy(caseid=f\"{nn+1}\",\n\u001b[0m\u001b[0;32m     17\u001b[0m                               \u001b[0mverbose\u001b[0m\u001b[1;33m=\u001b[0m\u001b[1;32mFalse\u001b[0m\u001b[1;33m,\u001b[0m\u001b[1;33m\u001b[0m\u001b[1;33m\u001b[0m\u001b[0m\n\u001b[0;32m     18\u001b[0m                               rwodelete=False)\n",
      "\u001b[1;32mZ:\\jding\\pyCCUS_oak2\\pyCCUS-public\\utils\\pyCMG_Control.py\u001b[0m in \u001b[0;36mcmgrst2npy\u001b[1;34m(self, caseid, verbose, rwodelete)\u001b[0m\n\u001b[0;32m    342\u001b[0m \u001b[1;33m\u001b[0m\u001b[0m\n\u001b[0;32m    343\u001b[0m         \u001b[1;31m# STEP1: write cmg rwd file to simfolder\u001b[0m\u001b[1;33m\u001b[0m\u001b[1;33m\u001b[0m\u001b[1;33m\u001b[0m\u001b[0m\n\u001b[1;32m--> 344\u001b[1;33m         \u001b[0mself\u001b[0m\u001b[1;33m.\u001b[0m\u001b[0mwrt_rwd_report\u001b[0m\u001b[1;33m(\u001b[0m\u001b[0mcase_name\u001b[0m\u001b[1;33m=\u001b[0m\u001b[0mcasename\u001b[0m\u001b[1;33m,\u001b[0m \u001b[0mverbose\u001b[0m\u001b[1;33m=\u001b[0m\u001b[0mverbose\u001b[0m\u001b[1;33m)\u001b[0m\u001b[1;33m\u001b[0m\u001b[1;33m\u001b[0m\u001b[0m\n\u001b[0m\u001b[0;32m    345\u001b[0m \u001b[1;33m\u001b[0m\u001b[0m\n\u001b[0;32m    346\u001b[0m         \u001b[1;31m# STEP2: check all necessary folders available (if not, create folders)\u001b[0m\u001b[1;33m\u001b[0m\u001b[1;33m\u001b[0m\u001b[1;33m\u001b[0m\u001b[0m\n",
      "\u001b[1;32mZ:\\jding\\pyCCUS_oak2\\pyCCUS-public\\utils\\pyCMG_Control.py\u001b[0m in \u001b[0;36mwrt_rwd_report\u001b[1;34m(self, case_name, verbose)\u001b[0m\n\u001b[0;32m    129\u001b[0m             \u001b[1;31m# write cmg rwd file to simfolder\u001b[0m\u001b[1;33m\u001b[0m\u001b[1;33m\u001b[0m\u001b[1;33m\u001b[0m\u001b[0m\n\u001b[0;32m    130\u001b[0m         \u001b[0mwrtfolder\u001b[0m \u001b[1;33m=\u001b[0m \u001b[0mos\u001b[0m\u001b[1;33m.\u001b[0m\u001b[0mpath\u001b[0m\u001b[1;33m.\u001b[0m\u001b[0mjoin\u001b[0m\u001b[1;33m(\u001b[0m\u001b[0mself\u001b[0m\u001b[1;33m.\u001b[0m\u001b[0msimfolder\u001b[0m\u001b[1;33m,\u001b[0m \u001b[0mself\u001b[0m\u001b[1;33m.\u001b[0m\u001b[0mbatchfolder\u001b[0m\u001b[1;33m)\u001b[0m\u001b[1;33m\u001b[0m\u001b[1;33m\u001b[0m\u001b[0m\n\u001b[1;32m--> 131\u001b[1;33m         wrt_cmgrwd_grids(sim_sr3=case_name,\n\u001b[0m\u001b[0;32m    132\u001b[0m                         \u001b[0mext_rwo\u001b[0m\u001b[1;33m=\u001b[0m\u001b[1;32mNone\u001b[0m\u001b[1;33m,\u001b[0m\u001b[1;33m\u001b[0m\u001b[1;33m\u001b[0m\u001b[0m\n\u001b[0;32m    133\u001b[0m                         \u001b[0mpath2rwd\u001b[0m\u001b[1;33m=\u001b[0m\u001b[0mwrtfolder\u001b[0m\u001b[1;33m,\u001b[0m\u001b[1;33m\u001b[0m\u001b[1;33m\u001b[0m\u001b[0m\n",
      "\u001b[1;32mZ:\\jding\\pyCCUS_oak2\\pyCCUS-public\\utils\\pyCMG_Simulator.py\u001b[0m in \u001b[0;36mwrt_cmgrwd_grids\u001b[1;34m(sim_sr3, ext_rwo, path2rwd, create_rwo_folder, rwo_folder, proplist, layer_num, time_step, layer_type, precis, cmg_version, verbose)\u001b[0m\n\u001b[0;32m    124\u001b[0m             \u001b[0mext_file_name\u001b[0m \u001b[1;33m=\u001b[0m \u001b[1;34mf\"{rwo_folder}/{ext_file_name}\"\u001b[0m\u001b[1;33m\u001b[0m\u001b[1;33m\u001b[0m\u001b[0m\n\u001b[0;32m    125\u001b[0m         \u001b[1;32melse\u001b[0m\u001b[1;33m:\u001b[0m\u001b[1;33m\u001b[0m\u001b[1;33m\u001b[0m\u001b[0m\n\u001b[1;32m--> 126\u001b[1;33m             \u001b[1;32mraise\u001b[0m \u001b[0mValueError\u001b[0m\u001b[1;33m(\u001b[0m\u001b[1;34mf'The CMG version {cmg_version} is not implemented in wrt_cmgrwd_grids function [utils.pyCMG_Simulator]'\u001b[0m\u001b[1;33m)\u001b[0m\u001b[1;33m\u001b[0m\u001b[1;33m\u001b[0m\u001b[0m\n\u001b[0m\u001b[0;32m    127\u001b[0m \u001b[1;33m\u001b[0m\u001b[0m\n\u001b[0;32m    128\u001b[0m     \u001b[1;32mfor\u001b[0m \u001b[0mprop\u001b[0m \u001b[1;32min\u001b[0m \u001b[0mproplist\u001b[0m\u001b[1;33m:\u001b[0m\u001b[1;33m\u001b[0m\u001b[1;33m\u001b[0m\u001b[0m\n",
      "\u001b[1;31mValueError\u001b[0m: The CMG version  is not implemented in wrt_cmgrwd_grids function [utils.pyCMG_Simulator]"
     ]
    }
   ],
   "source": [
    "for nn in range(df_input.shape[0]):\n",
    "    pycmg_ctrl = pycmgcontrol(exp_name=f'case{nn+1}.dat', simfolder=os.path.join(folder_path, 'datfiles'))\n",
    "    # Available optoins: 'ese-win32-v2022.30', 'ese-ts1win-v2023.20', 'stf-sherlock-v2020.10'\n",
    "    pycmg_ctrl.cmg_version = 'ese-ts2win-v2024.20'\n",
    "    pycmg_ctrl.rwd_precis = 4\n",
    "    pycmg_ctrl.proplist = ['SG','PRES']\n",
    "    pycmg_ctrl.layer_nums = [1]\n",
    "    pycmg_ctrl.time_query = [2024, 2026, 2028, 2030, 2032, 2034]\n",
    "    ##### Params to control rwo2npy steps ######\n",
    "    pycmg_ctrl.XY2arr_interp_method = \"cubic\"  # options = {‘linear’, ‘nearest’, ‘cubic’}\n",
    "    pycmg_ctrl.XY2arr_interp_num_x = 100\n",
    "    pycmg_ctrl.XY2arr_interp_num_y = 100\n",
    "    pycmg_ctrl.x_dir_key = 'X'\n",
    "    pycmg_ctrl.y_dir_key = 'Y'\n",
    "\n",
    "    pycmg_ctrl.cmgrst2npy(caseid=f\"{nn+1}\",\n",
    "                              verbose=False, \n",
    "                              rwodelete=False)\n",
    "    npy_data = pycmg_ctrl.cmg2npy\n",
    "\n",
    "#     # try datfiles or simfiles depending on different computing env\n",
    "#     if not os.path.isdir(os.path.join(folder_path, 'datfiles', 'rst_npy')):\n",
    "#         os.makedirs(os.path.join(folder_path, 'datfiles', 'rst_npy'))\n",
    "#     np.save(os.path.join(folder_path, 'datfiles', 'rst_npy', f'case{nn+1}.npy'), arr = npy_data)"
   ]
  },
  {
   "cell_type": "code",
   "execution_count": null,
   "metadata": {},
   "outputs": [],
   "source": []
  },
  {
   "cell_type": "code",
   "execution_count": 16,
   "metadata": {},
   "outputs": [],
   "source": [
    "nn=1\n",
    "pycmg_ctrl = pycmgcontrol(exp_name=f'case{nn+1}.dat', simfolder=os.path.join(folder_path, 'datfiles'))\n",
    "    # Available optoins: 'ese-win32-v2022.30', 'ese-ts1win-v2023.20', 'stf-sherlock-v2020.10'\n",
    "pycmg_ctrl.cmg_version = 'ese-ts2win-v2024.20'\n",
    "pycmg_ctrl.rwd_precis = 4\n",
    "pycmg_ctrl.proplist = ['SG','PRES']\n",
    "pycmg_ctrl.layer_nums = [1]\n",
    "pycmg_ctrl.time_query = [2024, 2026, 2028, 2030, 2032, 2034]\n",
    "    ##### Params to control rwo2npy steps ######\n",
    "pycmg_ctrl.XY2arr_interp_method = \"cubic\"  # options = {‘linear’, ‘nearest’, ‘cubic’}\n",
    "pycmg_ctrl.XY2arr_interp_num_x = 100\n",
    "pycmg_ctrl.XY2arr_interp_num_y = 100\n",
    "pycmg_ctrl.x_dir_key = 'X'\n",
    "pycmg_ctrl.y_dir_key = 'Y'"
   ]
  },
  {
   "cell_type": "code",
   "execution_count": null,
   "metadata": {},
   "outputs": [],
   "source": [
    "from utils.pyCMG_Simulator import wrt_cmgrwd_grids\n",
    "wrtfolder = os.path.join(simfolder, '')\n",
    "wrt_cmgrwd_grids(sim_sr3=case_name,\n",
    "                        ext_rwo=None,\n",
    "                        path2rwd=wrtfolder,\n",
    "                        create_rwo_folder=True,\n",
    "                        rwo_folder=f'rwo_{case_name}',\n",
    "                        proplist=self.proplist,\n",
    "                        layer_num=self.layer_nums,\n",
    "                        time_step=self.rwd_time_step,\n",
    "                        layer_type=self.rwd_layer_type,\n",
    "                        precis=self.rwd_precis,\n",
    "                        cmg_version=self.cmg_version,\n",
    "                        verbose=verbose)"
   ]
  }
 ],
 "metadata": {
  "kernelspec": {
   "display_name": "Python 3",
   "language": "python",
   "name": "python3"
  },
  "language_info": {
   "codemirror_mode": {
    "name": "ipython",
    "version": 3
   },
   "file_extension": ".py",
   "mimetype": "text/x-python",
   "name": "python",
   "nbconvert_exporter": "python",
   "pygments_lexer": "ipython3",
   "version": "3.8.8"
  }
 },
 "nbformat": 4,
 "nbformat_minor": 2
}
