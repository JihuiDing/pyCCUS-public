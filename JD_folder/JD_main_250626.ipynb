{
 "cells": [
  {
   "cell_type": "markdown",
   "metadata": {},
   "source": [
    "#### This is the main file to run pyCCUS workflow"
   ]
  },
  {
   "cell_type": "markdown",
   "metadata": {},
   "source": [
    "# Step 1: set up a base CMG model\n",
    "Prepare a base CMG dat file and add it to the wrtcmgdat.py"
   ]
  },
  {
   "cell_type": "markdown",
   "metadata": {},
   "source": [
    "# Step 2: sample uncertain parameters\n",
    "LHS is not available on TS machines and will be performed elsewhere"
   ]
  },
  {
   "cell_type": "markdown",
   "metadata": {},
   "source": [
    "# Step3: generate CMG dat files based on the sampled parameters"
   ]
  },
  {
   "cell_type": "code",
   "execution_count": null,
   "metadata": {},
   "outputs": [],
   "source": [
    "import numpy as np\n",
    "import pandas as pd\n",
    "import matplotlib.pyplot as plt  \n",
    "from pathlib import Path\n",
    "import os\n",
    "import sys\n",
    "import time\n",
    "\n",
    "# append the path of the parent directory\n",
    "sys.path.append(\"..\")\n",
    "# Define the folder path to store generated dat files\n",
    "folder_path = Path('../data')"
   ]
  },
  {
   "cell_type": "code",
   "execution_count": 4,
   "metadata": {},
   "outputs": [
    {
     "data": {
      "text/html": [
       "<div>\n",
       "<style scoped>\n",
       "    .dataframe tbody tr th:only-of-type {\n",
       "        vertical-align: middle;\n",
       "    }\n",
       "\n",
       "    .dataframe tbody tr th {\n",
       "        vertical-align: top;\n",
       "    }\n",
       "\n",
       "    .dataframe thead th {\n",
       "        text-align: right;\n",
       "    }\n",
       "</style>\n",
       "<table border=\"1\" class=\"dataframe\">\n",
       "  <thead>\n",
       "    <tr style=\"text-align: right;\">\n",
       "      <th></th>\n",
       "      <th>E_GPa</th>\n",
       "      <th>PR</th>\n",
       "      <th>Sv_MPa/km</th>\n",
       "      <th>PORO_file</th>\n",
       "      <th>PERMX_file</th>\n",
       "      <th>sigma_x</th>\n",
       "      <th>sigma_y</th>\n",
       "      <th>tau_xy</th>\n",
       "    </tr>\n",
       "  </thead>\n",
       "  <tbody>\n",
       "    <tr>\n",
       "      <th>0</th>\n",
       "      <td>22719207.98</td>\n",
       "      <td>0.37</td>\n",
       "      <td>21.71</td>\n",
       "      <td>data_properties/JD_BASECASE_21_PORO.dat</td>\n",
       "      <td>data_properties/JD_BASECASE_21_PERMX.dat</td>\n",
       "      <td>23.755719</td>\n",
       "      <td>16.414281</td>\n",
       "      <td>5.052311</td>\n",
       "    </tr>\n",
       "    <tr>\n",
       "      <th>1</th>\n",
       "      <td>20908977.31</td>\n",
       "      <td>0.26</td>\n",
       "      <td>24.80</td>\n",
       "      <td>data_properties/JD_BASECASE_22_PORO.dat</td>\n",
       "      <td>data_properties/JD_BASECASE_22_PERMX.dat</td>\n",
       "      <td>22.784531</td>\n",
       "      <td>14.985469</td>\n",
       "      <td>4.164215</td>\n",
       "    </tr>\n",
       "    <tr>\n",
       "      <th>2</th>\n",
       "      <td>18158073.63</td>\n",
       "      <td>0.34</td>\n",
       "      <td>23.67</td>\n",
       "      <td>data_properties/JD_BASECASE_26_PORO.dat</td>\n",
       "      <td>data_properties/JD_BASECASE_26_PERMX.dat</td>\n",
       "      <td>24.060823</td>\n",
       "      <td>18.099177</td>\n",
       "      <td>5.333554</td>\n",
       "    </tr>\n",
       "    <tr>\n",
       "      <th>3</th>\n",
       "      <td>16111690.09</td>\n",
       "      <td>0.21</td>\n",
       "      <td>22.68</td>\n",
       "      <td>data_properties/JD_BASECASE_27_PORO.dat</td>\n",
       "      <td>data_properties/JD_BASECASE_27_PERMX.dat</td>\n",
       "      <td>21.409079</td>\n",
       "      <td>18.440921</td>\n",
       "      <td>4.073050</td>\n",
       "    </tr>\n",
       "    <tr>\n",
       "      <th>4</th>\n",
       "      <td>23420097.04</td>\n",
       "      <td>0.30</td>\n",
       "      <td>21.04</td>\n",
       "      <td>data_properties/JD_BASECASE_28_PORO.dat</td>\n",
       "      <td>data_properties/JD_BASECASE_28_PERMX.dat</td>\n",
       "      <td>19.918173</td>\n",
       "      <td>17.731827</td>\n",
       "      <td>3.852921</td>\n",
       "    </tr>\n",
       "  </tbody>\n",
       "</table>\n",
       "</div>"
      ],
      "text/plain": [
       "         E_GPa    PR  Sv_MPa/km                                PORO_file  \\\n",
       "0  22719207.98  0.37      21.71  data_properties/JD_BASECASE_21_PORO.dat   \n",
       "1  20908977.31  0.26      24.80  data_properties/JD_BASECASE_22_PORO.dat   \n",
       "2  18158073.63  0.34      23.67  data_properties/JD_BASECASE_26_PORO.dat   \n",
       "3  16111690.09  0.21      22.68  data_properties/JD_BASECASE_27_PORO.dat   \n",
       "4  23420097.04  0.30      21.04  data_properties/JD_BASECASE_28_PORO.dat   \n",
       "\n",
       "                                 PERMX_file    sigma_x    sigma_y    tau_xy  \n",
       "0  data_properties/JD_BASECASE_21_PERMX.dat  23.755719  16.414281  5.052311  \n",
       "1  data_properties/JD_BASECASE_22_PERMX.dat  22.784531  14.985469  4.164215  \n",
       "2  data_properties/JD_BASECASE_26_PERMX.dat  24.060823  18.099177  5.333554  \n",
       "3  data_properties/JD_BASECASE_27_PERMX.dat  21.409079  18.440921  4.073050  \n",
       "4  data_properties/JD_BASECASE_28_PERMX.dat  19.918173  17.731827  3.852921  "
      ]
     },
     "execution_count": 4,
     "metadata": {},
     "output_type": "execute_result"
    }
   ],
   "source": [
    "# load the LHS sampled parameters and file names\n",
    "df = pd.read_csv('sampled_parameters_and_files.csv')\n",
    "df_input = df.iloc[:,[0,1,4,6,7,11,12,13]]\n",
    "df_input"
   ]
  },
  {
   "cell_type": "code",
   "execution_count": null,
   "metadata": {},
   "outputs": [
    {
     "name": "stdout",
     "output_type": "stream",
     "text": [
      "Job done -- write 5 CMG dat files based on exp design csv .....\n"
     ]
    }
   ],
   "source": [
    "from utils.pyCMG_Model import omv_CCS\n",
    "\n",
    "omvccs = omv_CCS()\n",
    "omvccs.folder_path = folder_path\n",
    "omvccs.title1 = 'pyCCUS testdrive'\n",
    "omvccs.title2 = 'CCS omv'\n",
    "omvccs.title3 = 'JD+YL'\n",
    "\n",
    "omvccs.write_simfiles(df_input=df_input, verbose=True)"
   ]
  },
  {
   "cell_type": "markdown",
   "metadata": {},
   "source": [
    "# Step 4: run CMG simulations"
   ]
  },
  {
   "cell_type": "markdown",
   "metadata": {},
   "source": [
    "## Option 1: run CMG on TS machines"
   ]
  },
  {
   "cell_type": "code",
   "execution_count": 7,
   "metadata": {},
   "outputs": [
    {
     "name": "stdout",
     "output_type": "stream",
     "text": [
      "Elapsed time: 52.20 minutes\n"
     ]
    }
   ],
   "source": [
    "# Record the start time\n",
    "start_time = time.time()\n",
    "\n",
    "from utils.pyCMG_Control import pycmgcontrol\n",
    "\n",
    "for nn in range(df_input.shape[0]):\n",
    "    pycmg_ctrl = pycmgcontrol(exp_name=f'case{nn+1}.dat', simfolder=os.path.join(folder_path, 'datfiles'))\n",
    "    # Available optoins: 'ese-win32-v2022.30', 'ese-ts1win-v2023.20', 'stf-sherlock-v2020.10', 'ese-ts2win-v2024.20'\n",
    "    pycmg_ctrl.cmg_version = 'ese-ts2win-v2024.20'\n",
    "    pycmg_ctrl.run_gem_simulation(case_name_suffix=f'case{nn+1}.dat')\n",
    "    \n",
    "# Record the end time\n",
    "end_time = time.time()\n",
    "\n",
    "# Calculate the running time\n",
    "elapsed_time = (end_time - start_time)/60\n",
    "print(f\"Elapsed time: {elapsed_time:.2f} minutes\")"
   ]
  },
  {
   "cell_type": "markdown",
   "metadata": {},
   "source": [
    "## Option 2: run CMG on Sherlock\n",
    "- You will also need submit.sh file"
   ]
  },
  {
   "cell_type": "code",
   "execution_count": null,
   "metadata": {},
   "outputs": [],
   "source": [
    "# sherlock = pysherlock()\n",
    "# pyCTRL_folder_path = os.path.join(folder_path, 'pyCTRLfiles')\n",
    "\n",
    "# for idx in range(df_input.shape[0]):\n",
    "#     sherlock.write_pyCTRLfile(folder_path=pyCTRL_folder_path, caseid=idx+1)"
   ]
  },
  {
   "cell_type": "markdown",
   "metadata": {},
   "source": [
    "# Step 5: convert simulation results into npy format"
   ]
  },
  {
   "cell_type": "markdown",
   "metadata": {},
   "source": [
    "## Saturation and pressure"
   ]
  },
  {
   "cell_type": "code",
   "execution_count": null,
   "metadata": {
    "scrolled": true
   },
   "outputs": [],
   "source": [
    "n_cases = 2\n",
    "\n",
    "from utils.pyCMG_Control import pycmgcontrol\n",
    "\n",
    "for nn in range(n_cases):\n",
    "    pycmg_ctrl = pycmgcontrol(exp_name=f'case{nn+1}.dat', simfolder=os.path.join(folder_path, 'datfiles'))\n",
    "    # Available optoins: 'ese-win32-v2022.30', 'ese-ts1win-v2023.20', 'stf-sherlock-v2020.10'\n",
    "    pycmg_ctrl.cmg_version = 'ese-ts2win-v2024.20'\n",
    "    pycmg_ctrl.rwd_precis = 4\n",
    "    pycmg_ctrl.proplist = ['SG','PRES']\n",
    "    pycmg_ctrl.layer_nums = [i for i in range(41,80)]\n",
    "    pycmg_ctrl.time_query = [2040, 2050, 2060, 2550, 3050]\n",
    "    ##### Params to control rwo2npy steps ######\n",
    "    pycmg_ctrl.XY2arr_interp_method = \"cubic\"  # options = {‘linear’, ‘nearest’, ‘cubic’}\n",
    "    pycmg_ctrl.XY2arr_interp_num_x = 107\n",
    "    pycmg_ctrl.XY2arr_interp_num_y = 117\n",
    "    pycmg_ctrl.x_dir_key = 'X'\n",
    "    pycmg_ctrl.y_dir_key = 'Y'\n",
    "\n",
    "    pycmg_ctrl.cmgrst2npy(caseid=f\"{nn+1}\", verbose=False, rwodelete=True)\n",
    "#     npy_data = pycmg_ctrl.cmg2npy #a nested list consisted of all data, e.g., SG&PRES together "
   ]
  },
  {
   "cell_type": "markdown",
   "metadata": {},
   "source": [
    "## Geomechanical parameters"
   ]
  },
  {
   "cell_type": "code",
   "execution_count": 5,
   "metadata": {},
   "outputs": [],
   "source": [
    "from utils.pyCMG_Control import pycmgcontrol\n",
    "\n",
    "for nn in range(df_input.shape[0]):\n",
    "    pycmg_ctrl = pycmgcontrol(exp_name=f'case{nn+1}.dat', simfolder=os.path.join(folder_path, 'datfiles'))\n",
    "    # Available optoins: 'ese-win32-v2022.30', 'ese-ts1win-v2023.20', 'stf-sherlock-v2020.10'\n",
    "    pycmg_ctrl.cmg_version = 'ese-ts2win-v2024.20'\n",
    "    pycmg_ctrl.rwd_precis = 4\n",
    "    pycmg_ctrl.proplist = ['Vertical Displacement from Geomechanics']\n",
    "    pycmg_ctrl.layer_nums = [i for i in range(1,12)]\n",
    "    pycmg_ctrl.time_query = [2024, 2026, 2028, 2030, 2032, 2034]\n",
    "    ##### Params to control rwo2npy steps ######\n",
    "    pycmg_ctrl.XY2arr_interp_method = \"cubic\"  # options = {‘linear’, ‘nearest’, ‘cubic’}\n",
    "    pycmg_ctrl.XY2arr_interp_num_x = 100\n",
    "    pycmg_ctrl.XY2arr_interp_num_y = 100\n",
    "    pycmg_ctrl.x_dir_key = 'X'\n",
    "    pycmg_ctrl.y_dir_key = 'Y'\n",
    "\n",
    "    pycmg_ctrl.cmgrst2npy(caseid=f\"{nn+1}\", verbose=False, rwodelete=True)\n",
    "#     npy_data = pycmg_ctrl.cmg2npy #a nested list consisted of all data, e.g., SG&PRES together "
   ]
  },
  {
   "cell_type": "code",
   "execution_count": 6,
   "metadata": {},
   "outputs": [],
   "source": [
    "from utils.pyCMG_Control import pycmgcontrol\n",
    "\n",
    "for nn in range(df_input.shape[0]):\n",
    "    pycmg_ctrl = pycmgcontrol(exp_name=f'case{nn+1}.dat', simfolder=os.path.join(folder_path, 'datfiles'))\n",
    "    # Available optoins: 'ese-win32-v2022.30', 'ese-ts1win-v2023.20', 'stf-sherlock-v2020.10'\n",
    "    pycmg_ctrl.cmg_version = 'ese-ts2win-v2024.20'\n",
    "    pycmg_ctrl.rwd_precis = 4\n",
    "    pycmg_ctrl.proplist = ['GEORTYPE']\n",
    "    pycmg_ctrl.layer_nums = [i for i in range(1,12)]\n",
    "    pycmg_ctrl.time_query = [2024, 2026, 2028, 2030, 2032, 2034]\n",
    "    ##### Params to control rwo2npy steps ######\n",
    "    pycmg_ctrl.XY2arr_interp_method = \"cubic\"  # options = {‘linear’, ‘nearest’, ‘cubic’}\n",
    "    pycmg_ctrl.XY2arr_interp_num_x = 100\n",
    "    pycmg_ctrl.XY2arr_interp_num_y = 100\n",
    "    pycmg_ctrl.x_dir_key = 'X'\n",
    "    pycmg_ctrl.y_dir_key = 'Y'\n",
    "\n",
    "    pycmg_ctrl.cmgrst2npy(caseid=f\"{nn+1}\", verbose=False, rwodelete=True)\n",
    "#     npy_data = pycmg_ctrl.cmg2npy #a nested list consisted of all data, e.g., SG&PRES together "
   ]
  },
  {
   "cell_type": "code",
   "execution_count": 21,
   "metadata": {},
   "outputs": [
    {
     "data": {
      "text/plain": [
       "(2, 100, 100, 3, 6)"
      ]
     },
     "execution_count": 21,
     "metadata": {},
     "output_type": "execute_result"
    }
   ],
   "source": [
    "arr1=np.array(npy_data)\n",
    "arr1.shape"
   ]
  },
  {
   "cell_type": "code",
   "execution_count": 10,
   "metadata": {},
   "outputs": [
    {
     "data": {
      "text/plain": [
       "[1, 2, 3, 4, 5, 6, 7, 8, 9, 10, 11]"
      ]
     },
     "execution_count": 10,
     "metadata": {},
     "output_type": "execute_result"
    }
   ],
   "source": [
    "l1=[i for i in range(1,12)]\n",
    "l1"
   ]
  },
  {
   "cell_type": "markdown",
   "metadata": {},
   "source": [
    "# Debug code"
   ]
  },
  {
   "cell_type": "code",
   "execution_count": null,
   "metadata": {},
   "outputs": [],
   "source": [
    "   def read_VERDSPLGEO_rwo2npy(self, case_name, save=True):\n",
    "        cmgrst = pycmgresults()\n",
    "        cmgrst.XY2arr_interp_method = self.XY2arr_interp_method\n",
    "        cmgrst.XY2arr_interp_num_x = self.XY2arr_interp_num_x\n",
    "        cmgrst.XY2arr_interp_num_y = self.XY2arr_interp_num_y\n",
    "\n",
    "        rwo_dir = os.path.join(self.simfolder, self.batchfolder, f'rwo_{case_name}')\n",
    "\n",
    "        ######################################################################################\n",
    "        ##### No need to have this anymore ....\n",
    "        # # For cases with changing injection horizon\n",
    "        # if self.inj_hrzn:\n",
    "        #     self.time_query = list(np.arange(self.inj_hrzn+1)+self.time_start_year)\n",
    "        #     if self.yr_after_shutin_disp:\n",
    "        #         for yy in self.yr_after_shutin_disp:\n",
    "        #             self.time_query.append(self.inj_hrzn+self.time_start_year+yy)\n",
    "        # else:\n",
    "        #     print(f\"Injection horizon is None, no time query for CMG result extraction ...\")\n",
    "        ######################################################################################\n",
    "\n",
    "        try:\n",
    "\n",
    "            x_new, y_new, VERDSPLGEO_arr = cmgrst.rwo_reader2arr(folder=rwo_dir,\n",
    "                                                                 sim=case_name,\n",
    "                                                                 prop='Vertical Displacement from Geomechanics',\n",
    "                                                                 layer_nums=self.layer_nums,\n",
    "                                                                 time_query=[f'Vertical Displacement from Geomechanics_{t}-Jan-01' for t in self.time_query],\n",
    "                                                                 x_dir_key=self.x_dir_key, y_dir_key=self.y_dir_key)\n",
    "\n",
    "            self.cmg2npy = VERDSPLGEO_arr\n",
    "            self.cmg2npy_x_coord = x_new\n",
    "            self.cmg2npy_y_coord = y_new\n",
    "            \n",
    "            if save == True:\n",
    "                np.save(os.path.join(self.npy_folder, f\"{case_name.split('.')[0]}_VERDSPLGEO.npy\"), VERDSPLGEO_arr)\n",
    "                return True\n",
    "            else:\n",
    "                return VERDSPLGEO_arr\n",
    "            \n",
    "        except:\n",
    "            if self.err_stop:\n",
    "                raise ValueError(f'{case_name} VERDSPLGEO has an error when reading rwo to npy ...')\n",
    "            else:\n",
    "                print(f'{case_name} VERDSPLGEO has an error when reading rwo to npy ...')"
   ]
  },
  {
   "cell_type": "code",
   "execution_count": null,
   "metadata": {},
   "outputs": [],
   "source": []
  }
 ],
 "metadata": {
  "kernelspec": {
   "display_name": "base",
   "language": "python",
   "name": "python3"
  },
  "language_info": {
   "codemirror_mode": {
    "name": "ipython",
    "version": 3
   },
   "file_extension": ".py",
   "mimetype": "text/x-python",
   "name": "python",
   "nbconvert_exporter": "python",
   "pygments_lexer": "ipython3",
   "version": "3.12.4"
  }
 },
 "nbformat": 4,
 "nbformat_minor": 2
}
