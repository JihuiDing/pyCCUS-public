{
 "cells": [
  {
   "cell_type": "code",
   "execution_count": 1,
   "metadata": {},
   "outputs": [],
   "source": [
    "import numpy as np\n",
    "import pandas as pd\n",
    "import os\n",
    "import matplotlib.pyplot as plt  \n"
   ]
  },
  {
   "cell_type": "markdown",
   "metadata": {},
   "source": [
    "## This is a demo file for pyCCUS test drive, designed for JD"
   ]
  },
  {
   "cell_type": "markdown",
   "metadata": {},
   "source": [
    "#### Step 1: have your CMG model ready as the input to pyCCUS\n",
    "#### Step 2: get your parameter space ready\n",
    "- This example demo alters the values of permeability, porosity, and injection rate"
   ]
  },
  {
   "cell_type": "code",
   "execution_count": 2,
   "metadata": {},
   "outputs": [],
   "source": [
    "##### User input #####\n",
    "# folder_path = '../data/omv/CCS/testdrive1'\n",
    "folder_path = '..\\\\data\\\\omv\\\\CCS\\\\testdrive1'\n",
    "\n",
    "params = ['phi',\n",
    "          'perm_mult, md',\n",
    "          'inj_rate, m3/d']\n",
    "\n",
    "l_bounds = [0.15, 8000, 1e6]\n",
    "u_bounds = [0.25, 11000, 9e6]\n",
    "\n",
    "num_of_exp = 3\n",
    "##### User input #####"
   ]
  },
  {
   "cell_type": "code",
   "execution_count": null,
   "metadata": {},
   "outputs": [],
   "source": [
    "##### Latin Hyper Cube sampling to create the params space #####\n",
    "from scipy.stats import qmc\n",
    "sampler = qmc.LatinHypercube(d=len(params))\n",
    "sample = sampler.random(n=num_of_exp)\n",
    "\n",
    "sample_scaled = qmc.scale(sample, l_bounds, u_bounds)\n",
    "\n",
    "df = pd.DataFrame(data=np.round(sample_scaled,2), columns=params)\n",
    "\n",
    "df['perm, md'] = df['phi'] * df['perm_mult, md']\n",
    "\n",
    "##### Save your exp design if needed #####\n",
    "if not os.path.isdir(folder_path):\n",
    "    os.makedirs(folder_path)\n",
    "df.to_csv(os.path.join(folder_path, 'exp_design.csv'), index=False)"
   ]
  },
  {
   "cell_type": "markdown",
   "metadata": {},
   "source": [
    "- Write CMG models (dat files) based on the DoE"
   ]
  },
  {
   "cell_type": "code",
   "execution_count": 3,
   "metadata": {},
   "outputs": [],
   "source": [
    "df = pd.read_csv(os.path.join(folder_path, 'exp_design.csv'))\n",
    "df_input = df.iloc[:,[0,2,3]]\n",
    "df_input = df_input.rename(columns={'phi': 'phi', \n",
    "                                    'inj_rate, m3/d': 'inj_rate',\n",
    "                                    'perm, md': 'perm'})"
   ]
  },
  {
   "cell_type": "code",
   "execution_count": 4,
   "metadata": {},
   "outputs": [],
   "source": [
    "import sys\n",
    "# append the path of the parent directory\n",
    "sys.path.append(\"..\")\n",
    "# import method from sibling module\n",
    "from utils.pyCMG_Model import omv_CCS\n",
    "from utils.pySherlock import pysherlock"
   ]
  },
  {
   "cell_type": "code",
   "execution_count": 5,
   "metadata": {},
   "outputs": [],
   "source": [
    "omvccs = omv_CCS()\n",
    "omvccs.folder_path = folder_path\n",
    "omvccs.title1 = 'pyCCUS testdrive'\n",
    "omvccs.title2 = 'CCS omv'\n",
    "omvccs.title3 = 'JD+YL'"
   ]
  },
  {
   "cell_type": "code",
   "execution_count": 6,
   "metadata": {},
   "outputs": [
    {
     "name": "stdout",
     "output_type": "stream",
     "text": [
      "Job done -- write 3 CMG dat files based on exp design csv .....\n"
     ]
    }
   ],
   "source": [
    "omvccs.write_simfiles(df_input=df_input, verbose=True)"
   ]
  },
  {
   "cell_type": "markdown",
   "metadata": {},
   "source": [
    "## Run CMG files\n",
    "- Option 1: local win machine\n",
    "- Option 2: Stanford sherlock HPC"
   ]
  },
  {
   "cell_type": "code",
   "execution_count": 7,
   "metadata": {},
   "outputs": [],
   "source": [
    "from utils.pyCMG_Control import pycmgcontrol\n",
    "\n",
    "for nn in range(df_input.shape[0]):\n",
    "    pycmg_ctrl = pycmgcontrol(exp_name=f'case{nn+1}.dat', simfolder=os.path.join(folder_path, 'datfiles'))\n",
    "    # Available optoins: 'ese-win32-v2022.30', 'ese-ts1win-v2023.20', 'stf-sherlock-v2020.10', 'ese-ts2win-v2024.20'\n",
    "    pycmg_ctrl.cmg_version = 'ese-ts2win-v2024.20'\n",
    "\n",
    "    pycmg_ctrl.run_gem_simulation(case_name_suffix=f'case{nn+1}.dat')"
   ]
  },
  {
   "cell_type": "markdown",
   "metadata": {},
   "source": [
    "### Option 2: run CMG on Sherlock\n",
    "- You will also need submit.sh file"
   ]
  },
  {
   "cell_type": "code",
   "execution_count": null,
   "metadata": {},
   "outputs": [],
   "source": [
    "# sherlock = pysherlock()\n",
    "# pyCTRL_folder_path = os.path.join(folder_path, 'pyCTRLfiles')\n",
    "\n",
    "# for idx in range(df_input.shape[0]):\n",
    "#     sherlock.write_pyCTRLfile(folder_path=pyCTRL_folder_path, caseid=idx+1)"
   ]
  },
  {
   "cell_type": "markdown",
   "metadata": {},
   "source": [
    "### Extract the result in npy format"
   ]
  },
  {
   "cell_type": "code",
   "execution_count": 7,
   "metadata": {},
   "outputs": [],
   "source": [
    "from utils.pyCMG_Control import pycmgcontrol"
   ]
  },
  {
   "cell_type": "code",
   "execution_count": 8,
   "metadata": {
    "scrolled": true
   },
   "outputs": [],
   "source": [
    "for nn in range(df_input.shape[0]):\n",
    "    pycmg_ctrl = pycmgcontrol(exp_name=f'case{nn+1}.dat', simfolder=os.path.join(folder_path, 'datfiles'))\n",
    "    # Available optoins: 'ese-win32-v2022.30', 'ese-ts1win-v2023.20', 'stf-sherlock-v2020.10'\n",
    "    pycmg_ctrl.cmg_version = 'ese-ts2win-v2024.20'\n",
    "    pycmg_ctrl.rwd_precis = 4\n",
    "    pycmg_ctrl.proplist = ['SG','PRES']\n",
    "    pycmg_ctrl.layer_nums = [1,2,3]\n",
    "    pycmg_ctrl.time_query = [2024, 2026, 2028, 2030, 2032, 2034]\n",
    "    ##### Params to control rwo2npy steps ######\n",
    "    pycmg_ctrl.XY2arr_interp_method = \"cubic\"  # options = {‘linear’, ‘nearest’, ‘cubic’}\n",
    "    pycmg_ctrl.XY2arr_interp_num_x = 100\n",
    "    pycmg_ctrl.XY2arr_interp_num_y = 100\n",
    "    pycmg_ctrl.x_dir_key = 'X'\n",
    "    pycmg_ctrl.y_dir_key = 'Y'\n",
    "\n",
    "    pycmg_ctrl.cmgrst2npy(caseid=f\"{nn+1}\",\n",
    "                              verbose=False, \n",
    "                              rwodelete=False)\n",
    "    npy_data = pycmg_ctrl.cmg2npy\n",
    "\n",
    "#     # try datfiles or simfiles depending on different computing env\n",
    "#     if not os.path.isdir(os.path.join(folder_path, 'datfiles', 'rst_npy')):\n",
    "#         os.makedirs(os.path.join(folder_path, 'datfiles', 'rst_npy'))\n",
    "#     np.save(os.path.join(folder_path, 'datfiles', 'rst_npy', f'case{nn+1}.npy'), arr = npy_data)"
   ]
  },
  {
   "cell_type": "code",
   "execution_count": null,
   "metadata": {},
   "outputs": [],
   "source": []
  },
  {
   "cell_type": "markdown",
   "metadata": {},
   "source": [
    "## debug code"
   ]
  },
  {
   "cell_type": "markdown",
   "metadata": {},
   "source": [
    "### test function read_rwo2csv"
   ]
  },
  {
   "cell_type": "code",
   "execution_count": 11,
   "metadata": {},
   "outputs": [],
   "source": [
    "    def read_rwo2csv(path2file, \n",
    "                     save2csv=None):\n",
    "        \"\"\"\n",
    "        Goal: reads rwo files to csv format. The rwo file is prop values at X, Y location.\n",
    "\n",
    "        Input:  path2file directions the function to the rwo file.\n",
    "                save2csv: path+name of the csv file to be saved, if not None.\n",
    "        Output: csv file includes colums: X, Y, prop @ time steps output in rwo files. \n",
    "                (Num of rows should be the number of grids in a layer of the model)\n",
    "                example format of a column: \"Gas Saturation_2023-Jan-01\"\n",
    "        \"\"\"\n",
    "        # read data from file\n",
    "        with open(path2file) as file:\n",
    "            lines = file.readlines()\n",
    "        # organize data in dict format    \n",
    "        cache = {}\n",
    "        count = 0\n",
    "        \n",
    "        for i in range(len(lines)):\n",
    "            try:\n",
    "                # This means a new time step\n",
    "                if lines[i].split()[1] == 'TIME:':\n",
    "                    if count > 0:\n",
    "                        cache[key] = pressure\n",
    "                    count += 1\n",
    "                    pressure = []\n",
    "    #                 key = lines[i+1].split(':')[-1]+'_'+str(count)\n",
    "    #                 key = lines[i+1].split(':')[-1]+'_'+lines[i].split()[-1]\n",
    "                    prop_name = ' '.join(lines[i+1].split(':')[-1].split())\n",
    "                    key = prop_name+'_'+lines[i].split()[-1]\n",
    "\n",
    "                if lines[i].split()[0] == '**' or lines[i].split()[0] == '<' or not lines[i].split():\n",
    "                    pass\n",
    "                else:\n",
    "                    x = float(lines[i].split()[0])\n",
    "                    y = float(lines[i].split()[1])\n",
    "                    prop = float(lines[i].split()[2])\n",
    "                    pressure.append((x,y,prop))\n",
    "            except:\n",
    "                pass\n",
    "        # Record the last item\n",
    "        cache[key] = pressure\n",
    "            \n",
    "        # convert cache in dict to a pd dataframe\n",
    "        df = pd.DataFrame({})\n",
    "        df['X'] = np.array(cache[list(cache.keys())[0]])[:,0]\n",
    "        df['Y'] = np.array(cache[list(cache.keys())[0]])[:,1]\n",
    "        for item in cache.keys():\n",
    "            df[item] = np.array(cache[item])[:,2]\n",
    "        \n",
    "        # If need to save the data in CSV format\n",
    "        if save2csv is not None:\n",
    "            df.to_csv(save2csv, index=False)\n",
    "        return df"
   ]
  },
  {
   "cell_type": "code",
   "execution_count": 12,
   "metadata": {},
   "outputs": [
    {
     "data": {
      "text/html": [
       "<div>\n",
       "<style scoped>\n",
       "    .dataframe tbody tr th:only-of-type {\n",
       "        vertical-align: middle;\n",
       "    }\n",
       "\n",
       "    .dataframe tbody tr th {\n",
       "        vertical-align: top;\n",
       "    }\n",
       "\n",
       "    .dataframe thead th {\n",
       "        text-align: right;\n",
       "    }\n",
       "</style>\n",
       "<table border=\"1\" class=\"dataframe\">\n",
       "  <thead>\n",
       "    <tr style=\"text-align: right;\">\n",
       "      <th></th>\n",
       "      <th>X</th>\n",
       "      <th>Y</th>\n",
       "      <th>Pressure_2024-Jan-01</th>\n",
       "      <th>Pressure_2026-Jan-01</th>\n",
       "      <th>Pressure_2028-Jan-01</th>\n",
       "      <th>Pressure_2030-Jan-01</th>\n",
       "      <th>Pressure_2032-Jan-01</th>\n",
       "      <th>Pressure_2034-Jan-01</th>\n",
       "    </tr>\n",
       "  </thead>\n",
       "  <tbody>\n",
       "    <tr>\n",
       "      <th>0</th>\n",
       "      <td>555529.31</td>\n",
       "      <td>6714351.88</td>\n",
       "      <td>19091.6</td>\n",
       "      <td>19171.9</td>\n",
       "      <td>19314.7</td>\n",
       "      <td>19458.5</td>\n",
       "      <td>19610.2</td>\n",
       "      <td>19765.7</td>\n",
       "    </tr>\n",
       "    <tr>\n",
       "      <th>1</th>\n",
       "      <td>555078.70</td>\n",
       "      <td>6714390.50</td>\n",
       "      <td>19270.7</td>\n",
       "      <td>19351.0</td>\n",
       "      <td>19493.9</td>\n",
       "      <td>19637.6</td>\n",
       "      <td>19789.4</td>\n",
       "      <td>19944.9</td>\n",
       "    </tr>\n",
       "    <tr>\n",
       "      <th>2</th>\n",
       "      <td>554620.59</td>\n",
       "      <td>6714430.75</td>\n",
       "      <td>19466.7</td>\n",
       "      <td>19547.0</td>\n",
       "      <td>19689.9</td>\n",
       "      <td>19833.6</td>\n",
       "      <td>19985.4</td>\n",
       "      <td>20140.9</td>\n",
       "    </tr>\n",
       "    <tr>\n",
       "      <th>3</th>\n",
       "      <td>554158.45</td>\n",
       "      <td>6714472.00</td>\n",
       "      <td>19695.9</td>\n",
       "      <td>19776.3</td>\n",
       "      <td>19919.2</td>\n",
       "      <td>20063.0</td>\n",
       "      <td>20214.8</td>\n",
       "      <td>20370.3</td>\n",
       "    </tr>\n",
       "    <tr>\n",
       "      <th>4</th>\n",
       "      <td>553694.11</td>\n",
       "      <td>6714513.75</td>\n",
       "      <td>19881.1</td>\n",
       "      <td>19961.7</td>\n",
       "      <td>20104.6</td>\n",
       "      <td>20248.4</td>\n",
       "      <td>20400.2</td>\n",
       "      <td>20555.7</td>\n",
       "    </tr>\n",
       "    <tr>\n",
       "      <th>...</th>\n",
       "      <td>...</td>\n",
       "      <td>...</td>\n",
       "      <td>...</td>\n",
       "      <td>...</td>\n",
       "      <td>...</td>\n",
       "      <td>...</td>\n",
       "      <td>...</td>\n",
       "      <td>...</td>\n",
       "    </tr>\n",
       "    <tr>\n",
       "      <th>8067</th>\n",
       "      <td>536893.36</td>\n",
       "      <td>6665637.50</td>\n",
       "      <td>28274.6</td>\n",
       "      <td>28362.7</td>\n",
       "      <td>28509.9</td>\n",
       "      <td>28655.6</td>\n",
       "      <td>28809.4</td>\n",
       "      <td>28962.5</td>\n",
       "    </tr>\n",
       "    <tr>\n",
       "      <th>8068</th>\n",
       "      <td>536343.33</td>\n",
       "      <td>6665664.00</td>\n",
       "      <td>28417.6</td>\n",
       "      <td>28506.6</td>\n",
       "      <td>28653.9</td>\n",
       "      <td>28799.6</td>\n",
       "      <td>28953.5</td>\n",
       "      <td>29106.7</td>\n",
       "    </tr>\n",
       "    <tr>\n",
       "      <th>8069</th>\n",
       "      <td>535794.03</td>\n",
       "      <td>6665690.75</td>\n",
       "      <td>28554.4</td>\n",
       "      <td>28644.2</td>\n",
       "      <td>28791.8</td>\n",
       "      <td>28937.5</td>\n",
       "      <td>29091.4</td>\n",
       "      <td>29244.6</td>\n",
       "    </tr>\n",
       "    <tr>\n",
       "      <th>8070</th>\n",
       "      <td>535246.01</td>\n",
       "      <td>6665717.75</td>\n",
       "      <td>28684.9</td>\n",
       "      <td>28775.5</td>\n",
       "      <td>28923.2</td>\n",
       "      <td>29068.9</td>\n",
       "      <td>29222.8</td>\n",
       "      <td>29376.0</td>\n",
       "    </tr>\n",
       "    <tr>\n",
       "      <th>8071</th>\n",
       "      <td>534699.81</td>\n",
       "      <td>6665745.00</td>\n",
       "      <td>28810.2</td>\n",
       "      <td>28901.3</td>\n",
       "      <td>29049.2</td>\n",
       "      <td>29194.9</td>\n",
       "      <td>29348.8</td>\n",
       "      <td>29502.1</td>\n",
       "    </tr>\n",
       "  </tbody>\n",
       "</table>\n",
       "<p>8072 rows × 8 columns</p>\n",
       "</div>"
      ],
      "text/plain": [
       "              X           Y  Pressure_2024-Jan-01  Pressure_2026-Jan-01  \\\n",
       "0     555529.31  6714351.88               19091.6               19171.9   \n",
       "1     555078.70  6714390.50               19270.7               19351.0   \n",
       "2     554620.59  6714430.75               19466.7               19547.0   \n",
       "3     554158.45  6714472.00               19695.9               19776.3   \n",
       "4     553694.11  6714513.75               19881.1               19961.7   \n",
       "...         ...         ...                   ...                   ...   \n",
       "8067  536893.36  6665637.50               28274.6               28362.7   \n",
       "8068  536343.33  6665664.00               28417.6               28506.6   \n",
       "8069  535794.03  6665690.75               28554.4               28644.2   \n",
       "8070  535246.01  6665717.75               28684.9               28775.5   \n",
       "8071  534699.81  6665745.00               28810.2               28901.3   \n",
       "\n",
       "      Pressure_2028-Jan-01  Pressure_2030-Jan-01  Pressure_2032-Jan-01  \\\n",
       "0                  19314.7               19458.5               19610.2   \n",
       "1                  19493.9               19637.6               19789.4   \n",
       "2                  19689.9               19833.6               19985.4   \n",
       "3                  19919.2               20063.0               20214.8   \n",
       "4                  20104.6               20248.4               20400.2   \n",
       "...                    ...                   ...                   ...   \n",
       "8067               28509.9               28655.6               28809.4   \n",
       "8068               28653.9               28799.6               28953.5   \n",
       "8069               28791.8               28937.5               29091.4   \n",
       "8070               28923.2               29068.9               29222.8   \n",
       "8071               29049.2               29194.9               29348.8   \n",
       "\n",
       "      Pressure_2034-Jan-01  \n",
       "0                  19765.7  \n",
       "1                  19944.9  \n",
       "2                  20140.9  \n",
       "3                  20370.3  \n",
       "4                  20555.7  \n",
       "...                    ...  \n",
       "8067               28962.5  \n",
       "8068               29106.7  \n",
       "8069               29244.6  \n",
       "8070               29376.0  \n",
       "8071               29502.1  \n",
       "\n",
       "[8072 rows x 8 columns]"
      ]
     },
     "execution_count": 12,
     "metadata": {},
     "output_type": "execute_result"
    }
   ],
   "source": [
    "df = read_rwo2csv(path2file=os.path.join(folder_path, 'datfiles', 'rwo_case2', 'case2_PRES_layer1.rwo'))\n",
    "df"
   ]
  },
  {
   "cell_type": "markdown",
   "metadata": {},
   "source": [
    "### test function xy_interp_to_arr"
   ]
  },
  {
   "cell_type": "code",
   "execution_count": 13,
   "metadata": {},
   "outputs": [],
   "source": [
    "    def xy_interp_to_arr(df, num_x, num_y, interp_method, query, x_dir_key='X', y_dir_key='Y'):\n",
    "        \"\"\"\n",
    "        interp_method = {‘linear’, ‘nearest’, ‘cubic’}\n",
    "        num_x, num_y = int. Number of query pts along x or y axis.\n",
    "        x, y, values = df columns\n",
    "        \"\"\"\n",
    "\n",
    "        x = df[x_dir_key].values\n",
    "        y = df[y_dir_key].values\n",
    "        val = df[query].values\n",
    "\n",
    "        # Define grid\n",
    "        xi = np.linspace(np.min(x), np.max(x), num_x)\n",
    "        yi = np.linspace(np.min(y), np.max(y), num_y)\n",
    "        x_new, y_new = np.meshgrid(xi, yi)\n",
    "\n",
    "        val_new = griddata((x, y), val, (x_new, y_new), method=interp_method)\n",
    "\n",
    "        return x_new, y_new, val_new"
   ]
  },
  {
   "cell_type": "code",
   "execution_count": 33,
   "metadata": {},
   "outputs": [
    {
     "data": {
      "text/plain": [
       "array([[nan, nan, nan, ..., nan, nan, nan],\n",
       "       [nan, nan, nan, ..., nan, nan, nan],\n",
       "       [nan, nan, nan, ..., nan, nan, nan],\n",
       "       ...,\n",
       "       [nan, nan, nan, ..., nan, nan, nan],\n",
       "       [nan, nan, nan, ..., nan, nan, nan],\n",
       "       [nan, nan, nan, ..., nan, nan, nan]])"
      ]
     },
     "execution_count": 33,
     "metadata": {},
     "output_type": "execute_result"
    }
   ],
   "source": [
    "from scipy.interpolate import griddata\n",
    "x_new, y_new, val_new = xy_interp_to_arr(df, 100, 100, 'linear', 'Pressure_2026-Jan-01', x_dir_key='X', y_dir_key='Y')\n",
    "val_new"
   ]
  },
  {
   "cell_type": "code",
   "execution_count": 36,
   "metadata": {},
   "outputs": [
    {
     "data": {
      "text/plain": [
       "((100, 100), (100, 100), (100, 100))"
      ]
     },
     "execution_count": 36,
     "metadata": {},
     "output_type": "execute_result"
    }
   ],
   "source": [
    "x_new.shape, y_new.shape, val_new.shape"
   ]
  },
  {
   "cell_type": "code",
   "execution_count": 37,
   "metadata": {},
   "outputs": [
    {
     "data": {
      "image/png": "[encoded data removed]",
      "text/plain": [
       "<Figure size 432x288 with 2 Axes>"
      ]
     },
     "metadata": {
      "needs_background": "light"
     },
     "output_type": "display_data"
    }
   ],
   "source": [
    "plt.imshow(val_new, extent=[x_new.min(), x_new.max(), y_new.min(), y_new.max()], origin='lower', cmap='viridis', aspect='auto')\n",
    "plt.colorbar(label='Value')\n",
    "plt.xlabel('X')\n",
    "plt.ylabel('Y')\n",
    "plt.title('Heatmap')\n",
    "plt.show()"
   ]
  },
  {
   "cell_type": "markdown",
   "metadata": {},
   "source": [
    "### test function rwo_reader2arr"
   ]
  },
  {
   "cell_type": "code",
   "execution_count": 50,
   "metadata": {},
   "outputs": [],
   "source": [
    "    def rwo_reader2arr(folder, sim, prop, layer_nums, time_query, x_dir_key, y_dir_key):\n",
    "        \"\"\"\n",
    "        Goal: combine rwo_reader2df and rwodf2arr in a 4d (n,m,z,t) array for output.\n",
    "\n",
    "        Inputs: 1. folder: path to the sim run folder, example=\"../data/EPA_baseline/\"\n",
    "                2. sim: simulation run name, example=\"EPA_baseline_dev2East_debug\"\n",
    "                3. prop: CMG keyword for property 'SG', 'PRES', 'VERDSPLGEO', etc.\n",
    "                4. layer_nums: list or array in 1d\n",
    "                5. query: in format of [list] or arr for years. example=['Gas Saturation_2027-Jan-01', ..., 'Gas Saturation_2100-Jan-01']\n",
    "        \"\"\"\n",
    "        df0 = read_rwo2csv(os.path.join(folder, f'{sim}_{prop}_layer{layer_nums[0]}.rwo'))\n",
    "\n",
    "        \n",
    "        #JD\n",
    "        XY2arr_interp_num_x = 100\n",
    "        XY2arr_interp_num_y = 100\n",
    "        XY2arr_interp_method = \"cubic\"  # options = {‘linear’, ‘nearest’, ‘cubic’}\n",
    "\n",
    "        x_new, y_new, arr0 = xy_interp_to_arr(df=df0, \n",
    "                                                   num_x=XY2arr_interp_num_x, num_y=XY2arr_interp_num_y, interp_method=XY2arr_interp_method, \n",
    "                                                   query=time_query[0], x_dir_key=x_dir_key, y_dir_key=y_dir_key)\n",
    "\n",
    "        # Retire the old version, b/c it does not handle the case that X and Y do not align\n",
    "        # arr0 = self.rwodf2arr(df=df0, query=time_query[0], x_dir_key='X', y_dir_key='Y')\n",
    "\n",
    "        n,m = arr0.shape\n",
    "        z = len(layer_nums)\n",
    "        t = len(time_query)\n",
    "\n",
    "        rst_arr = np.zeros((n,m,z,t))\n",
    "        for il,ll in enumerate(layer_nums):\n",
    "            globals()[f'df{prop}_lyr{ll}'] = read_rwo2csv(os.path.join(folder, f'{sim}_{prop}_layer{ll}.rwo'))\n",
    "            for it, tt in enumerate(time_query):\n",
    "                _, _, globals()[f'arr{prop}_lyr{ll}_{tt}'] = xy_interp_to_arr(df=globals()[f'df{prop}_lyr{ll}'], \n",
    "                                                                                   num_x=XY2arr_interp_num_x, \n",
    "                                                                                   num_y=XY2arr_interp_num_y, \n",
    "                                                                                   interp_method=XY2arr_interp_method, \n",
    "                                                                                   query=tt, x_dir_key=x_dir_key, y_dir_key=y_dir_key)\n",
    "                # Retire the old version, b/c it does not handle the case that X and Y do not align\n",
    "                # globals()[f'arr{prop}_lyr{ll}_{tt}'] = self.rwodf2arr(df=globals()[f'df{prop}_lyr{ll}'], query=tt, x_dir_key=x_dir_key, y_dir_key=y_dir_key)\n",
    "                rst_arr[:,:,il,it] = globals()[f'arr{prop}_lyr{ll}_{tt}']\n",
    "        return x_new, y_new, rst_arr"
   ]
  },
  {
   "cell_type": "code",
   "execution_count": 53,
   "metadata": {},
   "outputs": [
    {
     "data": {
      "text/plain": [
       "array([[[[nan],\n",
       "         [nan],\n",
       "         [nan]],\n",
       "\n",
       "        [[nan],\n",
       "         [nan],\n",
       "         [nan]],\n",
       "\n",
       "        [[nan],\n",
       "         [nan],\n",
       "         [nan]],\n",
       "\n",
       "        ...,\n",
       "\n",
       "        [[nan],\n",
       "         [nan],\n",
       "         [nan]],\n",
       "\n",
       "        [[nan],\n",
       "         [nan],\n",
       "         [nan]],\n",
       "\n",
       "        [[nan],\n",
       "         [nan],\n",
       "         [nan]]],\n",
       "\n",
       "\n",
       "       [[[nan],\n",
       "         [nan],\n",
       "         [nan]],\n",
       "\n",
       "        [[nan],\n",
       "         [nan],\n",
       "         [nan]],\n",
       "\n",
       "        [[nan],\n",
       "         [nan],\n",
       "         [nan]],\n",
       "\n",
       "        ...,\n",
       "\n",
       "        [[nan],\n",
       "         [nan],\n",
       "         [nan]],\n",
       "\n",
       "        [[nan],\n",
       "         [nan],\n",
       "         [nan]],\n",
       "\n",
       "        [[nan],\n",
       "         [nan],\n",
       "         [nan]]],\n",
       "\n",
       "\n",
       "       [[[nan],\n",
       "         [nan],\n",
       "         [nan]],\n",
       "\n",
       "        [[nan],\n",
       "         [nan],\n",
       "         [nan]],\n",
       "\n",
       "        [[nan],\n",
       "         [nan],\n",
       "         [nan]],\n",
       "\n",
       "        ...,\n",
       "\n",
       "        [[nan],\n",
       "         [nan],\n",
       "         [nan]],\n",
       "\n",
       "        [[nan],\n",
       "         [nan],\n",
       "         [nan]],\n",
       "\n",
       "        [[nan],\n",
       "         [nan],\n",
       "         [nan]]],\n",
       "\n",
       "\n",
       "       ...,\n",
       "\n",
       "\n",
       "       [[[nan],\n",
       "         [nan],\n",
       "         [nan]],\n",
       "\n",
       "        [[nan],\n",
       "         [nan],\n",
       "         [nan]],\n",
       "\n",
       "        [[nan],\n",
       "         [nan],\n",
       "         [nan]],\n",
       "\n",
       "        ...,\n",
       "\n",
       "        [[nan],\n",
       "         [nan],\n",
       "         [nan]],\n",
       "\n",
       "        [[nan],\n",
       "         [nan],\n",
       "         [nan]],\n",
       "\n",
       "        [[nan],\n",
       "         [nan],\n",
       "         [nan]]],\n",
       "\n",
       "\n",
       "       [[[nan],\n",
       "         [nan],\n",
       "         [nan]],\n",
       "\n",
       "        [[nan],\n",
       "         [nan],\n",
       "         [nan]],\n",
       "\n",
       "        [[nan],\n",
       "         [nan],\n",
       "         [nan]],\n",
       "\n",
       "        ...,\n",
       "\n",
       "        [[nan],\n",
       "         [nan],\n",
       "         [nan]],\n",
       "\n",
       "        [[nan],\n",
       "         [nan],\n",
       "         [nan]],\n",
       "\n",
       "        [[nan],\n",
       "         [nan],\n",
       "         [nan]]],\n",
       "\n",
       "\n",
       "       [[[nan],\n",
       "         [nan],\n",
       "         [nan]],\n",
       "\n",
       "        [[nan],\n",
       "         [nan],\n",
       "         [nan]],\n",
       "\n",
       "        [[nan],\n",
       "         [nan],\n",
       "         [nan]],\n",
       "\n",
       "        ...,\n",
       "\n",
       "        [[nan],\n",
       "         [nan],\n",
       "         [nan]],\n",
       "\n",
       "        [[nan],\n",
       "         [nan],\n",
       "         [nan]],\n",
       "\n",
       "        [[nan],\n",
       "         [nan],\n",
       "         [nan]]]])"
      ]
     },
     "execution_count": 53,
     "metadata": {},
     "output_type": "execute_result"
    }
   ],
   "source": [
    "folder=os.path.join(folder_path, 'datfiles','rwo_case2')\n",
    "sim='case2'\n",
    "prop='PRES'\n",
    "layer_nums=[1,2,3]\n",
    "time_query=['Pressure_2026-Jan-01']\n",
    "x_dir_key='X'\n",
    "y_dir_key='Y'\n",
    "\n",
    "x_new2, y_new2, rst_arr2=rwo_reader2arr(folder, sim, prop, layer_nums, time_query, x_dir_key, y_dir_key)\n",
    "# df0 = read_rwo2csv(os.path.join(folder, f'{sim}_{prop}_layer{layer_nums[0]}.rwo'))\n",
    "# XY2arr_interp_num_x = 100\n",
    "# XY2arr_interp_num_y = 100\n",
    "# XY2arr_interp_method = \"cubic\"  # options = {‘linear’, ‘nearest’, ‘cubic’}\n",
    "# x_new, y_new, arr0 = xy_interp_to_arr(df=df0, num_x=XY2arr_interp_num_x, num_y=XY2arr_interp_num_y, \n",
    "#                                       interp_method=XY2arr_interp_method, \n",
    "#                                       query=time_query[0], x_dir_key=x_dir_key, y_dir_key=y_dir_key)\n",
    "# # x_new, y_new, arr0 = xy_interp_to_arr(df0, 100, 100, 'cubic', 'Pressure_2026-Jan-01', 'X', 'Y')                              \n",
    "# arr0\n",
    "y_new2\n",
    "rst_arr2"
   ]
  },
  {
   "cell_type": "markdown",
   "metadata": {},
   "source": [
    "### JD: found issue \"y_dir_key=x_dir_key\""
   ]
  },
  {
   "cell_type": "markdown",
   "metadata": {},
   "source": [
    "x_new, y_new, arr0 = xy_interp_to_arr(df=df0, \n",
    "                                    num_x=XY2arr_interp_num_x, num_y=XY2arr_interp_num_y, interp_method=XY2arr_interp_method, \n",
    "                                    query=time_query[0], x_dir_key=x_dir_key, y_dir_key=x_dir_key)"
   ]
  },
  {
   "cell_type": "code",
   "execution_count": null,
   "metadata": {},
   "outputs": [],
   "source": []
  }
 ],
 "metadata": {
  "kernelspec": {
   "display_name": "Python 3",
   "language": "python",
   "name": "python3"
  },
  "language_info": {
   "codemirror_mode": {
    "name": "ipython",
    "version": 3
   },
   "file_extension": ".py",
   "mimetype": "text/x-python",
   "name": "python",
   "nbconvert_exporter": "python",
   "pygments_lexer": "ipython3",
   "version": "3.8.8"
  }
 },
 "nbformat": 4,
 "nbformat_minor": 2
}
