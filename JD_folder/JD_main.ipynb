{
 "cells": [
  {
   "cell_type": "code",
   "execution_count": 1,
   "metadata": {},
   "outputs": [],
   "source": [
    "import numpy as np\n",
    "import pandas as pd\n",
    "import os\n",
    "import matplotlib.pyplot as plt  \n"
   ]
  },
  {
   "cell_type": "markdown",
   "metadata": {},
   "source": [
    "## This is a demo file for pyCCUS test drive, designed for JD"
   ]
  },
  {
   "cell_type": "markdown",
   "metadata": {},
   "source": [
    "#### Step 1: have your CMG model ready as the input to pyCCUS\n",
    "#### Step 2: get your parameter space ready\n",
    "- This example demo alters the values of permeability, porosity, and injection rate"
   ]
  },
  {
   "cell_type": "code",
   "execution_count": 2,
   "metadata": {},
   "outputs": [],
   "source": [
    "##### User input #####\n",
    "# folder_path = '../data/omv/CCS/testdrive1'\n",
    "folder_path = '..\\\\data\\\\omv\\\\CCS\\\\testdrive1'\n",
    "\n",
    "params = ['phi',\n",
    "          'perm_mult, md',\n",
    "          'inj_rate, m3/d']\n",
    "\n",
    "l_bounds = [0.15, 8000, 1e6]\n",
    "u_bounds = [0.25, 11000, 9e6]\n",
    "\n",
    "num_of_exp = 3\n",
    "##### User input #####"
   ]
  },
  {
   "cell_type": "code",
   "execution_count": null,
   "metadata": {},
   "outputs": [],
   "source": [
    "##### Latin Hyper Cube sampling to create the params space #####\n",
    "from scipy.stats import qmc\n",
    "sampler = qmc.LatinHypercube(d=len(params))\n",
    "sample = sampler.random(n=num_of_exp)\n",
    "\n",
    "sample_scaled = qmc.scale(sample, l_bounds, u_bounds)\n",
    "\n",
    "df = pd.DataFrame(data=np.round(sample_scaled,2), columns=params)\n",
    "\n",
    "df['perm, md'] = df['phi'] * df['perm_mult, md']\n",
    "\n",
    "##### Save your exp design if needed #####\n",
    "if not os.path.isdir(folder_path):\n",
    "    os.makedirs(folder_path)\n",
    "df.to_csv(os.path.join(folder_path, 'exp_design.csv'), index=False)"
   ]
  },
  {
   "cell_type": "markdown",
   "metadata": {},
   "source": [
    "- Write CMG models (dat files) based on the DoE"
   ]
  },
  {
   "cell_type": "code",
   "execution_count": 3,
   "metadata": {},
   "outputs": [],
   "source": [
    "df = pd.read_csv(os.path.join(folder_path, 'exp_design.csv'))\n",
    "df_input = df.iloc[:,[0,2,3]]\n",
    "df_input = df_input.rename(columns={'phi': 'phi', \n",
    "                                    'inj_rate, m3/d': 'inj_rate',\n",
    "                                    'perm, md': 'perm'})"
   ]
  },
  {
   "cell_type": "code",
   "execution_count": 4,
   "metadata": {},
   "outputs": [],
   "source": [
    "import sys\n",
    "# append the path of the parent directory\n",
    "sys.path.append(\"..\")\n",
    "# import method from sibling module\n",
    "from utils.pyCMG_Model import omv_CCS\n",
    "from utils.pySherlock import pysherlock"
   ]
  },
  {
   "cell_type": "code",
   "execution_count": 5,
   "metadata": {},
   "outputs": [],
   "source": [
    "omvccs = omv_CCS()\n",
    "omvccs.folder_path = folder_path\n",
    "omvccs.title1 = 'pyCCUS testdrive'\n",
    "omvccs.title2 = 'CCS omv'\n",
    "omvccs.title3 = 'JD+YL'"
   ]
  },
  {
   "cell_type": "code",
   "execution_count": 6,
   "metadata": {},
   "outputs": [
    {
     "name": "stdout",
     "output_type": "stream",
     "text": [
      "Job done -- write 3 CMG dat files based on exp design csv .....\n"
     ]
    }
   ],
   "source": [
    "omvccs.write_simfiles(df_input=df_input, verbose=True)"
   ]
  },
  {
   "cell_type": "markdown",
   "metadata": {},
   "source": [
    "## Run CMG files\n",
    "- Option 1: local win machine\n",
    "- Option 2: Stanford sherlock HPC"
   ]
  },
  {
   "cell_type": "code",
   "execution_count": 7,
   "metadata": {},
   "outputs": [],
   "source": [
    "from utils.pyCMG_Control import pycmgcontrol\n",
    "\n",
    "for nn in range(df_input.shape[0]):\n",
    "    pycmg_ctrl = pycmgcontrol(exp_name=f'case{nn+1}.dat', simfolder=os.path.join(folder_path, 'datfiles'))\n",
    "    # Available optoins: 'ese-win32-v2022.30', 'ese-ts1win-v2023.20', 'stf-sherlock-v2020.10', 'ese-ts2win-v2024.20'\n",
    "    pycmg_ctrl.cmg_version = 'ese-ts2win-v2024.20'\n",
    "\n",
    "    pycmg_ctrl.run_gem_simulation(case_name_suffix=f'case{nn+1}.dat')"
   ]
  },
  {
   "cell_type": "markdown",
   "metadata": {},
   "source": [
    "### Option 2: run CMG on Sherlock\n",
    "- You will also need submit.sh file"
   ]
  },
  {
   "cell_type": "code",
   "execution_count": null,
   "metadata": {},
   "outputs": [],
   "source": [
    "# sherlock = pysherlock()\n",
    "# pyCTRL_folder_path = os.path.join(folder_path, 'pyCTRLfiles')\n",
    "\n",
    "# for idx in range(df_input.shape[0]):\n",
    "#     sherlock.write_pyCTRLfile(folder_path=pyCTRL_folder_path, caseid=idx+1)"
   ]
  },
  {
   "cell_type": "markdown",
   "metadata": {},
   "source": [
    "### Extract the result in npy format"
   ]
  },
  {
   "cell_type": "code",
   "execution_count": 7,
   "metadata": {},
   "outputs": [],
   "source": [
    "from utils.pyCMG_Control import pycmgcontrol"
   ]
  },
  {
   "cell_type": "code",
   "execution_count": 8,
   "metadata": {
    "scrolled": true
   },
   "outputs": [],
   "source": [
    "for nn in range(df_input.shape[0]):\n",
    "    pycmg_ctrl = pycmgcontrol(exp_name=f'case{nn+1}.dat', simfolder=os.path.join(folder_path, 'datfiles'))\n",
    "    # Available optoins: 'ese-win32-v2022.30', 'ese-ts1win-v2023.20', 'stf-sherlock-v2020.10'\n",
    "    pycmg_ctrl.cmg_version = 'ese-ts2win-v2024.20'\n",
    "    pycmg_ctrl.rwd_precis = 4\n",
    "    pycmg_ctrl.proplist = ['SG','PRES']\n",
    "    pycmg_ctrl.layer_nums = [1,2,3]\n",
    "    pycmg_ctrl.time_query = [2024, 2026, 2028, 2030, 2032, 2034]\n",
    "    ##### Params to control rwo2npy steps ######\n",
    "    pycmg_ctrl.XY2arr_interp_method = \"cubic\"  # options = {‘linear’, ‘nearest’, ‘cubic’}\n",
    "    pycmg_ctrl.XY2arr_interp_num_x = 100\n",
    "    pycmg_ctrl.XY2arr_interp_num_y = 100\n",
    "    pycmg_ctrl.x_dir_key = 'X'\n",
    "    pycmg_ctrl.y_dir_key = 'Y'\n",
    "\n",
    "    pycmg_ctrl.cmgrst2npy(caseid=f\"{nn+1}\", verbose=False, rwodelete=False)\n",
    "#     npy_data = pycmg_ctrl.cmg2npy #a nested list consisted of all data, e.g., SG&PRES together "
   ]
  },
  {
   "cell_type": "code",
   "execution_count": 22,
   "metadata": {},
   "outputs": [
    {
     "name": "stdout",
     "output_type": "stream",
     "text": [
      "case1.gmch VERDSPLGEO has an error when reading rwo to npy ...\n",
      "case2.gmch VERDSPLGEO has an error when reading rwo to npy ...\n",
      "case3.gmch VERDSPLGEO has an error when reading rwo to npy ...\n"
     ]
    }
   ],
   "source": [
    "for nn in range(df_input.shape[0]):\n",
    "    pycmg_ctrl = pycmgcontrol(exp_name=f'case{nn+1}.dat', simfolder=os.path.join(folder_path, 'datfiles'))\n",
    "    # Available optoins: 'ese-win32-v2022.30', 'ese-ts1win-v2023.20', 'stf-sherlock-v2020.10'\n",
    "    pycmg_ctrl.cmg_version = 'ese-ts2win-v2024.20'\n",
    "    pycmg_ctrl.rwd_precis = 4\n",
    "    pycmg_ctrl.proplist = ['Vertical Displacement from Geomechanics']\n",
    "    pycmg_ctrl.layer_nums = [1,2,3]\n",
    "    pycmg_ctrl.time_query = [2024, 2026, 2028, 2030, 2032, 2034]\n",
    "    ##### Params to control rwo2npy steps ######\n",
    "    pycmg_ctrl.XY2arr_interp_method = \"cubic\"  # options = {‘linear’, ‘nearest’, ‘cubic’}\n",
    "    pycmg_ctrl.XY2arr_interp_num_x = 100\n",
    "    pycmg_ctrl.XY2arr_interp_num_y = 100\n",
    "    pycmg_ctrl.x_dir_key = 'X'\n",
    "    pycmg_ctrl.y_dir_key = 'Y'\n",
    "\n",
    "    pycmg_ctrl.cmgrst2npy(caseid=f\"{nn+1}\", verbose=False, rwodelete=False)\n",
    "#     npy_data = pycmg_ctrl.cmg2npy #a nested list consisted of all data, e.g., SG&PRES together "
   ]
  },
  {
   "cell_type": "code",
   "execution_count": 21,
   "metadata": {},
   "outputs": [
    {
     "data": {
      "text/plain": [
       "(2, 100, 100, 3, 6)"
      ]
     },
     "execution_count": 21,
     "metadata": {},
     "output_type": "execute_result"
    }
   ],
   "source": [
    "arr1=np.array(npy_data)\n",
    "arr1.shape"
   ]
  },
  {
   "cell_type": "code",
   "execution_count": 10,
   "metadata": {},
   "outputs": [
    {
     "data": {
      "text/plain": [
       "[1, 2, 3, 4, 5, 6, 7, 8, 9, 10, 11]"
      ]
     },
     "execution_count": 10,
     "metadata": {},
     "output_type": "execute_result"
    }
   ],
   "source": [
    "l1=[i for i in range(1,12)]\n",
    "l1"
   ]
  },
  {
   "cell_type": "markdown",
   "metadata": {},
   "source": [
    "## debug code"
   ]
  },
  {
   "cell_type": "code",
   "execution_count": null,
   "metadata": {},
   "outputs": [],
   "source": [
    "   def read_VERDSPLGEO_rwo2npy(self, case_name, save=True):\n",
    "        cmgrst = pycmgresults()\n",
    "        cmgrst.XY2arr_interp_method = self.XY2arr_interp_method\n",
    "        cmgrst.XY2arr_interp_num_x = self.XY2arr_interp_num_x\n",
    "        cmgrst.XY2arr_interp_num_y = self.XY2arr_interp_num_y\n",
    "\n",
    "        rwo_dir = os.path.join(self.simfolder, self.batchfolder, f'rwo_{case_name}')\n",
    "\n",
    "        ######################################################################################\n",
    "        ##### No need to have this anymore ....\n",
    "        # # For cases with changing injection horizon\n",
    "        # if self.inj_hrzn:\n",
    "        #     self.time_query = list(np.arange(self.inj_hrzn+1)+self.time_start_year)\n",
    "        #     if self.yr_after_shutin_disp:\n",
    "        #         for yy in self.yr_after_shutin_disp:\n",
    "        #             self.time_query.append(self.inj_hrzn+self.time_start_year+yy)\n",
    "        # else:\n",
    "        #     print(f\"Injection horizon is None, no time query for CMG result extraction ...\")\n",
    "        ######################################################################################\n",
    "\n",
    "        try:\n",
    "\n",
    "            x_new, y_new, VERDSPLGEO_arr = cmgrst.rwo_reader2arr(folder=rwo_dir,\n",
    "                                                                 sim=case_name,\n",
    "                                                                 prop='Vertical Displacement from Geomechanics',\n",
    "                                                                 layer_nums=self.layer_nums,\n",
    "                                                                 time_query=[f'Vertical Displacement from Geomechanics_{t}-Jan-01' for t in self.time_query],\n",
    "                                                                 x_dir_key=self.x_dir_key, y_dir_key=self.y_dir_key)\n",
    "\n",
    "            self.cmg2npy = VERDSPLGEO_arr\n",
    "            self.cmg2npy_x_coord = x_new\n",
    "            self.cmg2npy_y_coord = y_new\n",
    "            \n",
    "            if save == True:\n",
    "                np.save(os.path.join(self.npy_folder, f\"{case_name.split('.')[0]}_VERDSPLGEO.npy\"), VERDSPLGEO_arr)\n",
    "                return True\n",
    "            else:\n",
    "                return VERDSPLGEO_arr\n",
    "            \n",
    "        except:\n",
    "            if self.err_stop:\n",
    "                raise ValueError(f'{case_name} VERDSPLGEO has an error when reading rwo to npy ...')\n",
    "            else:\n",
    "                print(f'{case_name} VERDSPLGEO has an error when reading rwo to npy ...')"
   ]
  },
  {
   "cell_type": "code",
   "execution_count": null,
   "metadata": {},
   "outputs": [],
   "source": []
  }
 ],
 "metadata": {
  "kernelspec": {
   "display_name": "Python 3",
   "language": "python",
   "name": "python3"
  },
  "language_info": {
   "codemirror_mode": {
    "name": "ipython",
    "version": 3
   },
   "file_extension": ".py",
   "mimetype": "text/x-python",
   "name": "python",
   "nbconvert_exporter": "python",
   "pygments_lexer": "ipython3",
   "version": "3.8.8"
  }
 },
 "nbformat": 4,
 "nbformat_minor": 2
}
