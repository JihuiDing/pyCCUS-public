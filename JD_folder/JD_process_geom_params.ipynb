{
 "cells": [
  {
   "cell_type": "markdown",
   "id": "cfdf5b96",
   "metadata": {},
   "source": [
    "# Replace with NAN for the Johansen sector model\n",
    "For geomechanical parameters, the southwest corner is filled with values, replace them with nana"
   ]
  },
  {
   "cell_type": "code",
   "execution_count": 1,
   "id": "82910c19",
   "metadata": {},
   "outputs": [],
   "source": [
    "import numpy as np\n",
    "import os\n",
    "\n",
    "# List of properties to modify based on NaN locations in arr_SG]\n",
    "prop_list = [\"GEORTYPE\", \"VERDSPLGEO\"]\n",
    "case_total_num = 3\n",
    "folder_path = '..\\\\data\\\\omv\\\\CCS\\\\testdrive1\\\\datfiles\\\\rst_npy'\n",
    "\n",
    "# Load arr_SG file once and compute NaN mask\n",
    "arr_SG = np.load(os.path.join(folder_path, 'case1_SG.npy'))\n",
    "nan_mask = np.isnan(arr_SG)\n",
    "\n",
    "for case_num in range(1, case_total_num + 1):\n",
    "    for prop in prop_list:\n",
    "        # Precompute file paths for loading and saving\n",
    "        input_file = os.path.join(folder_path, f'case{case_num}_{prop}.npy')\n",
    "        output_file = os.path.join(folder_path, f'case{case_num}_{prop}_modified.npy')\n",
    "        \n",
    "        # Load the numpy array for each case and property\n",
    "        arr_geom = np.load(input_file)\n",
    "        \n",
    "        # Apply the NaN mask to arr_geom\n",
    "        arr_geom[nan_mask] = np.nan\n",
    "        \n",
    "        # Save the modified array back to disk\n",
    "        np.save(output_file, arr_geom)\n"
   ]
  }
 ],
 "metadata": {
  "kernelspec": {
   "display_name": "base",
   "language": "python",
   "name": "python3"
  },
  "language_info": {
   "codemirror_mode": {
    "name": "ipython",
    "version": 3
   },
   "file_extension": ".py",
   "mimetype": "text/x-python",
   "name": "python",
   "nbconvert_exporter": "python",
   "pygments_lexer": "ipython3",
   "version": "3.8.8"
  }
 },
 "nbformat": 4,
 "nbformat_minor": 5
}
