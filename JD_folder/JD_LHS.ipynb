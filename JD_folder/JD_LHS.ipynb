{
 "cells": [
  {
   "cell_type": "markdown",
   "id": "b22d77f3",
   "metadata": {},
   "source": [
    "# LHS is not available on TS machines and will be performed elsewhere"
   ]
  },
  {
   "cell_type": "code",
   "execution_count": null,
   "id": "ea3985f0",
   "metadata": {},
   "outputs": [],
   "source": [
    "from scipy.stats import qmc\n",
    "\n",
    "params = ['phi',\n",
    "          'perm_mult, md',\n",
    "          'inj_rate, m3/d']\n",
    "\n",
    "l_bounds = [0.15, 8000, 1e6]\n",
    "u_bounds = [0.25, 11000, 9e6]\n",
    "\n",
    "num_of_exp = 3\n",
    "\n",
    "# Latin Hyper Cube sampling to create the params space\n",
    "sampler = qmc.LatinHypercube(d=len(params))\n",
    "sample = sampler.random(n=num_of_exp)\n",
    "\n",
    "sample_scaled = qmc.scale(sample, l_bounds, u_bounds)\n",
    "\n",
    "df = pd.DataFrame(data=np.round(sample_scaled,2), columns=params)\n",
    "\n",
    "df['perm, md'] = df['phi'] * df['perm_mult, md']\n",
    "\n",
    "# save to csv\n",
    "df.to_csv(os.path.join(folder_path, 'exp_design.csv'), index=False)"
   ]
  }
 ],
 "metadata": {
  "kernelspec": {
   "display_name": "Python 3",
   "language": "python",
   "name": "python3"
  },
  "language_info": {
   "codemirror_mode": {
    "name": "ipython",
    "version": 3
   },
   "file_extension": ".py",
   "mimetype": "text/x-python",
   "name": "python",
   "nbconvert_exporter": "python",
   "pygments_lexer": "ipython3",
   "version": "3.8.8"
  }
 },
 "nbformat": 4,
 "nbformat_minor": 5
}
