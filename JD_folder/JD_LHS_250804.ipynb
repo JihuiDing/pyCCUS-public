{
 "cells": [
  {
   "cell_type": "markdown",
   "id": "d2433854",
   "metadata": {},
   "source": [
    "# LHS is not available on TS machines and will be performed elsewhere"
   ]
  },
  {
   "cell_type": "markdown",
   "id": "48005d8b",
   "metadata": {},
   "source": [
    "# calculate the stress state of the reference block"
   ]
  },
  {
   "cell_type": "markdown",
   "id": "5f5e48d1",
   "metadata": {},
   "source": [
    "### For the JD_Sula_2005_gmc grid, there are 10 k layers. Reservoir starts at k=6. Use block (50, 1, 6) as reference block for *STRESSGRAD calculation. Its grid top = 670.7188 m and bottom = 671.9521 m."
   ]
  },
  {
   "cell_type": "code",
   "execution_count": 1,
   "id": "864870a1",
   "metadata": {},
   "outputs": [
    {
     "name": "stdout",
     "output_type": "stream",
     "text": [
      "671.33545\n"
     ]
    }
   ],
   "source": [
    "grid_top = 670.7188\n",
    "grid_bottom = 671.9521\n",
    "grid_ave = (grid_top + grid_bottom)/2\n",
    "print(grid_ave)"
   ]
  },
  {
   "cell_type": "code",
   "execution_count": 3,
   "id": "b35e1dfa",
   "metadata": {},
   "outputs": [
    {
     "name": "stdout",
     "output_type": "stream",
     "text": [
      "sigma_x gradient = 22.4\n",
      "sigma_y gradient = 17.200000000000003\n",
      "tau_xy gradient = 4.503332099679082\n"
     ]
    }
   ],
   "source": [
    "# This code has been verified using the StressTransform3D function\n",
    "import numpy as np\n",
    "SH=25\n",
    "Sh=14.6\n",
    "beta = 300-90 #rotate from SH to x axis\n",
    "cos_2beta = np.cos(np.radians(2*beta))\n",
    "sin_2beta = np.sin(np.radians(2*beta))\n",
    "sigma_x_grad=(SH+Sh)/2 + (SH-Sh)/2*cos_2beta\n",
    "sigma_y_grad=(SH+Sh)/2 - (SH-Sh)/2*cos_2beta\n",
    "tau_xy_grad = (SH-Sh)/2*sin_2beta\n",
    "print('sigma_x gradient =',sigma_x_grad)\n",
    "print('sigma_y gradient =',sigma_y_grad)\n",
    "print('tau_xy gradient =',tau_xy_grad)"
   ]
  },
  {
   "cell_type": "code",
   "execution_count": 7,
   "id": "5f1f3dff",
   "metadata": {},
   "outputs": [
    {
     "name": "stdout",
     "output_type": "stream",
     "text": [
      "For the reference block, the effective stresses are:\n",
      "sigma_x =  8324.55958  kPa\n",
      "sigma_y =  4833.615240000002  kPa\n",
      "sigma_z =  8525.960215  kPa\n",
      "tau_xy =  3023.246481637502  kPa\n"
     ]
    }
   ],
   "source": [
    "print('For the reference block, the effective stresses are:')\n",
    "print('sigma_x = ', (sigma_x_grad - 10) * grid_ave, ' kPa')\n",
    "print('sigma_y = ', (sigma_y_grad - 10) * grid_ave, ' kPa')\n",
    "print('sigma_z = ', (22.7 - 10) * grid_ave, ' kPa')\n",
    "print('tau_xy = ', tau_xy_grad * grid_ave, ' kPa')"
   ]
  },
  {
   "cell_type": "markdown",
   "id": "67ae2aad",
   "metadata": {},
   "source": [
    "### check one point: pretty close"
   ]
  },
  {
   "cell_type": "code",
   "execution_count": 20,
   "id": "70ad8ec5",
   "metadata": {},
   "outputs": [
    {
     "name": "stdout",
     "output_type": "stream",
     "text": [
      "For the checking block, the effective stresses are:\n",
      "sigma_x =  8506.09744  kPa\n",
      "sigma_y =  4939.024320000002  kPa\n",
      "sigma_z =  8711.89012  kPa\n",
      "tau_xy =  3089.1759390766183  kPa\n"
     ]
    }
   ],
   "source": [
    "grid_top2 = 685.8252\n",
    "grid_bottom2 = 686.126\n",
    "grid_ave2 = (grid_top2 + grid_bottom2)/2\n",
    "\n",
    "print('For the checking block, the effective stresses are:')\n",
    "print('sigma_x = ', (sigma_x_grad - 10) * grid_ave2, ' kPa')\n",
    "print('sigma_y = ', (sigma_y_grad - 10) * grid_ave2, ' kPa')\n",
    "print('sigma_z = ', (22.7 - 10) * grid_ave2, ' kPa')\n",
    "print('tau_xy = ', tau_xy_grad * grid_ave2, ' kPa')"
   ]
  },
  {
   "cell_type": "code",
   "execution_count": 21,
   "id": "59093d09",
   "metadata": {},
   "outputs": [
    {
     "name": "stdout",
     "output_type": "stream",
     "text": [
      "For the checking block, the effective stresses are:\n",
      "sigma_x =  31621.8414  kPa\n",
      "sigma_y =  18361.06920000001  kPa\n",
      "sigma_z =  32386.88595  kPa\n",
      "tau_xy =  11484.165598998463  kPa\n"
     ]
    }
   ],
   "source": [
    "grid_top2 = 2503.424\n",
    "grid_bottom2 = 2596.873\n",
    "grid_ave2 = (grid_top2 + grid_bottom2)/2\n",
    "\n",
    "print('For the checking block, the effective stresses are:')\n",
    "print('sigma_x = ', (sigma_x_grad - 10) * grid_ave2, ' kPa')\n",
    "print('sigma_y = ', (sigma_y_grad - 10) * grid_ave2, ' kPa')\n",
    "print('sigma_z = ', (22.7 - 10) * grid_ave2, ' kPa')\n",
    "print('tau_xy = ', tau_xy_grad * grid_ave2, ' kPa')"
   ]
  },
  {
   "cell_type": "markdown",
   "id": "d93cd13f",
   "metadata": {},
   "source": [
    "## PORO/PERMX pairs are NOT sampled more than once (from file names instead of files)"
   ]
  },
  {
   "cell_type": "code",
   "execution_count": null,
   "id": "81c13dbe",
   "metadata": {},
   "outputs": [
    {
     "data": {
      "text/html": [
       "<div>\n",
       "<style scoped>\n",
       "    .dataframe tbody tr th:only-of-type {\n",
       "        vertical-align: middle;\n",
       "    }\n",
       "\n",
       "    .dataframe tbody tr th {\n",
       "        vertical-align: top;\n",
       "    }\n",
       "\n",
       "    .dataframe thead th {\n",
       "        text-align: right;\n",
       "    }\n",
       "</style>\n",
       "<table border=\"1\" class=\"dataframe\">\n",
       "  <thead>\n",
       "    <tr style=\"text-align: right;\">\n",
       "      <th></th>\n",
       "      <th>E_GPa</th>\n",
       "      <th>PR</th>\n",
       "      <th>SH_MPa/km</th>\n",
       "      <th>Sh_MPa/km</th>\n",
       "      <th>Sv_MPa/km</th>\n",
       "      <th>SH_azi_deg</th>\n",
       "      <th>PORO_file</th>\n",
       "      <th>PERMX_file</th>\n",
       "      <th>beta</th>\n",
       "      <th>cos_2beta</th>\n",
       "      <th>sin_2beta</th>\n",
       "      <th>sigma_x</th>\n",
       "      <th>sigma_y</th>\n",
       "      <th>tau_xy</th>\n",
       "    </tr>\n",
       "  </thead>\n",
       "  <tbody>\n",
       "    <tr>\n",
       "      <th>0</th>\n",
       "      <td>19411406.84</td>\n",
       "      <td>0.27</td>\n",
       "      <td>-15.21</td>\n",
       "      <td>-4.60</td>\n",
       "      <td>-12.38</td>\n",
       "      <td>303.77</td>\n",
       "      <td>data_properties/JD_BASECASE_21_PORO.dat</td>\n",
       "      <td>data_properties/JD_BASECASE_21_PERMX.dat</td>\n",
       "      <td>213.77</td>\n",
       "      <td>0.382038</td>\n",
       "      <td>0.924146</td>\n",
       "      <td>-11.931713</td>\n",
       "      <td>-7.878287</td>\n",
       "      <td>-4.902597</td>\n",
       "    </tr>\n",
       "    <tr>\n",
       "      <th>1</th>\n",
       "      <td>17244093.19</td>\n",
       "      <td>0.34</td>\n",
       "      <td>-14.33</td>\n",
       "      <td>-4.33</td>\n",
       "      <td>-11.73</td>\n",
       "      <td>307.10</td>\n",
       "      <td>data_properties/JD_BASECASE_22_PORO.dat</td>\n",
       "      <td>data_properties/JD_BASECASE_22_PERMX.dat</td>\n",
       "      <td>217.10</td>\n",
       "      <td>0.272280</td>\n",
       "      <td>0.962218</td>\n",
       "      <td>-10.691401</td>\n",
       "      <td>-7.968599</td>\n",
       "      <td>-4.811090</td>\n",
       "    </tr>\n",
       "    <tr>\n",
       "      <th>2</th>\n",
       "      <td>16737803.06</td>\n",
       "      <td>0.20</td>\n",
       "      <td>-13.81</td>\n",
       "      <td>-4.85</td>\n",
       "      <td>-12.75</td>\n",
       "      <td>299.94</td>\n",
       "      <td>data_properties/JD_BASECASE_26_PORO.dat</td>\n",
       "      <td>data_properties/JD_BASECASE_26_PERMX.dat</td>\n",
       "      <td>209.94</td>\n",
       "      <td>0.501813</td>\n",
       "      <td>0.864976</td>\n",
       "      <td>-11.578121</td>\n",
       "      <td>-7.081879</td>\n",
       "      <td>-3.875094</td>\n",
       "    </tr>\n",
       "    <tr>\n",
       "      <th>3</th>\n",
       "      <td>22334007.91</td>\n",
       "      <td>0.31</td>\n",
       "      <td>-15.57</td>\n",
       "      <td>-5.02</td>\n",
       "      <td>-13.26</td>\n",
       "      <td>295.28</td>\n",
       "      <td>data_properties/JD_BASECASE_27_PORO.dat</td>\n",
       "      <td>data_properties/JD_BASECASE_27_PERMX.dat</td>\n",
       "      <td>205.28</td>\n",
       "      <td>0.635270</td>\n",
       "      <td>0.772290</td>\n",
       "      <td>-13.646048</td>\n",
       "      <td>-6.943952</td>\n",
       "      <td>-4.073831</td>\n",
       "    </tr>\n",
       "    <tr>\n",
       "      <th>4</th>\n",
       "      <td>23354984.41</td>\n",
       "      <td>0.40</td>\n",
       "      <td>-16.43</td>\n",
       "      <td>-4.27</td>\n",
       "      <td>-13.91</td>\n",
       "      <td>292.78</td>\n",
       "      <td>data_properties/JD_BASECASE_28_PORO.dat</td>\n",
       "      <td>data_properties/JD_BASECASE_28_PERMX.dat</td>\n",
       "      <td>202.78</td>\n",
       "      <td>0.700162</td>\n",
       "      <td>0.713984</td>\n",
       "      <td>-14.606985</td>\n",
       "      <td>-6.093015</td>\n",
       "      <td>-4.341023</td>\n",
       "    </tr>\n",
       "  </tbody>\n",
       "</table>\n",
       "</div>"
      ],
      "text/plain": [
       "         E_GPa    PR  SH_MPa/km  Sh_MPa/km  Sv_MPa/km  SH_azi_deg  \\\n",
       "0  19411406.84  0.27     -15.21      -4.60     -12.38      303.77   \n",
       "1  17244093.19  0.34     -14.33      -4.33     -11.73      307.10   \n",
       "2  16737803.06  0.20     -13.81      -4.85     -12.75      299.94   \n",
       "3  22334007.91  0.31     -15.57      -5.02     -13.26      295.28   \n",
       "4  23354984.41  0.40     -16.43      -4.27     -13.91      292.78   \n",
       "\n",
       "                                 PORO_file  \\\n",
       "0  data_properties/JD_BASECASE_21_PORO.dat   \n",
       "1  data_properties/JD_BASECASE_22_PORO.dat   \n",
       "2  data_properties/JD_BASECASE_26_PORO.dat   \n",
       "3  data_properties/JD_BASECASE_27_PORO.dat   \n",
       "4  data_properties/JD_BASECASE_28_PORO.dat   \n",
       "\n",
       "                                 PERMX_file    beta  cos_2beta  sin_2beta  \\\n",
       "0  data_properties/JD_BASECASE_21_PERMX.dat  213.77   0.382038   0.924146   \n",
       "1  data_properties/JD_BASECASE_22_PERMX.dat  217.10   0.272280   0.962218   \n",
       "2  data_properties/JD_BASECASE_26_PERMX.dat  209.94   0.501813   0.864976   \n",
       "3  data_properties/JD_BASECASE_27_PERMX.dat  205.28   0.635270   0.772290   \n",
       "4  data_properties/JD_BASECASE_28_PERMX.dat  202.78   0.700162   0.713984   \n",
       "\n",
       "     sigma_x   sigma_y    tau_xy  \n",
       "0 -11.931713 -7.878287 -4.902597  \n",
       "1 -10.691401 -7.968599 -4.811090  \n",
       "2 -11.578121 -7.081879 -3.875094  \n",
       "3 -13.646048 -6.943952 -4.073831  \n",
       "4 -14.606985 -6.093015 -4.341023  "
      ]
     },
     "execution_count": 24,
     "metadata": {},
     "output_type": "execute_result"
    }
   ],
   "source": [
    "import numpy as np\n",
    "import pandas as pd\n",
    "from scipy.stats import qmc\n",
    "from pathlib import Path\n",
    "import sys\n",
    "\n",
    "# --------------------------\n",
    "# Setup for sampling\n",
    "# --------------------------\n",
    "# Note: 1) stress gradients are effective ones after subtracting 10; \n",
    "#       2) stress gradients are negative due to CMG DIR DOWN convention\n",
    "params = ['E_GPa', 'PR', 'SH_MPa/km', 'Sh_MPa/km', 'Sv_MPa/km', 'SH_azi_deg']\n",
    "# l_bounds = [15e6, 0.2, 25 * 0.9, 14.6 * 0.9, 22.7 * 0.9, 290]\n",
    "# u_bounds = [25e6, 0.4, 25 * 1.1, 14.6 * 1.1, 22.7 * 1.1, 310]\n",
    "l_bounds = [15e6, 0.2, -15 * 1.1, -4.6 * 1.1, -12.7 * 1.1, 290]\n",
    "u_bounds = [25e6, 0.4, -15 * 0.9, -4.6 * 0.9, -12.7 * 0.9, 310]\n",
    "num_samples = 5  # Change as needed\n",
    "\n",
    "# --------------------------\n",
    "# Load PORO and PERMX file names\n",
    "# --------------------------\n",
    "property_file_names = np.load('property_file_names.npy')\n",
    "\n",
    "# poro_files = sorted([f for f in data_dir.iterdir() if \"PORO\" in f.name])\n",
    "# permx_files = sorted([f for f in data_dir.iterdir() if \"PERMX\" in f.name])\n",
    "poro_file_names = sorted([name for name in property_file_names if \"PORO\" in name.upper()])\n",
    "permx_file_names = sorted([name for name in property_file_names if \"PERMX\" in name.upper()])\n",
    "\n",
    "if not poro_file_names or not permx_file_names:\n",
    "    print(\"Error: PORO or PERMX file names not found.\")\n",
    "    sys.exit(1)\n",
    "\n",
    "if len(poro_file_names) != len(permx_file_names):\n",
    "    raise ValueError(f\"Number of PORO file names ({len(poro_file_names)}) does not match number of PERMX file names ({len(permx_file_names)})\")\n",
    "\n",
    "num_pairs = len(poro_file_names)\n",
    "\n",
    "if num_samples > num_pairs:\n",
    "    raise ValueError(f\"Cannot sample {num_samples} unique poro/permx pairs: only {num_pairs} available.\")\n",
    "\n",
    "# --------------------------\n",
    "# Latin Hypercube Sampling for parameters\n",
    "# --------------------------\n",
    "sampler = qmc.LatinHypercube(d=len(params))\n",
    "sample = sampler.random(n=num_samples)\n",
    "sample_params = qmc.scale(sample, l_bounds, u_bounds)\n",
    "df_params = pd.DataFrame(np.round(sample_params, 2), columns=params)\n",
    "\n",
    "# --------------------------\n",
    "# Store poro/permx pairs\n",
    "# --------------------------\n",
    "df_params[\"PORO_file\"] = [str(poro_file_names[i]) for i in range(num_samples)]\n",
    "df_params[\"PERMX_file\"] = [str(permx_file_names[i]) for i in range(num_samples)]\n",
    "\n",
    "# --------------------------\n",
    "# add prefix to file names\n",
    "# --------------------------\n",
    "prefix = \"data_properties/\"\n",
    "df_params[\"PORO_file\"] = df_params[\"PORO_file\"].apply(lambda x: f\"{prefix}{x}\")\n",
    "df_params[\"PERMX_file\"] = df_params[\"PERMX_file\"].apply(lambda x: f\"{prefix}{x}\")\n",
    "\n",
    "# --------------------------\n",
    "# Calculate stress state parameters\n",
    "# --------------------------\n",
    "df_params['beta'] = df_params['SH_azi_deg'] - 90  # Rotate from SH to x-axis\n",
    "df_params['cos_2beta'] = np.cos(np.radians(2 * df_params['beta']))\n",
    "df_params['sin_2beta'] = np.sin(np.radians(2 * df_params['beta']))\n",
    "\n",
    "df_params['sigma_x'] = (df_params['SH_MPa/km'] + df_params['Sh_MPa/km']) / 2 + \\\n",
    "                       (df_params['SH_MPa/km'] - df_params['Sh_MPa/km']) / 2 * df_params['cos_2beta']\n",
    "df_params['sigma_y'] = (df_params['SH_MPa/km'] + df_params['Sh_MPa/km']) / 2 - \\\n",
    "                       (df_params['SH_MPa/km'] - df_params['Sh_MPa/km']) / 2 * df_params['cos_2beta']\n",
    "df_params['tau_xy'] = (df_params['SH_MPa/km'] - df_params['Sh_MPa/km']) / 2 * df_params['sin_2beta']\n",
    "\n",
    "# --------------------------\n",
    "# Output\n",
    "# --------------------------\n",
    "df_params.to_csv(\"sampled_parameters_and_files.csv\", index=False)\n",
    "df_params\n",
    "\n"
   ]
  },
  {
   "cell_type": "code",
   "execution_count": 11,
   "id": "b411e264",
   "metadata": {},
   "outputs": [
    {
     "name": "stdout",
     "output_type": "stream",
     "text": [
      "['JD_BASECASE_21_PERMX.dat' 'JD_BASECASE_21_PORO.dat'\n",
      " 'JD_BASECASE_22_PERMX.dat' 'JD_BASECASE_22_PORO.dat'\n",
      " 'JD_BASECASE_26_PERMX.dat' 'JD_BASECASE_26_PORO.dat'\n",
      " 'JD_BASECASE_27_PERMX.dat' 'JD_BASECASE_27_PORO.dat'\n",
      " 'JD_BASECASE_28_PERMX.dat' 'JD_BASECASE_28_PORO.dat'\n",
      " 'JD_BASECASE_38_PERMX.dat' 'JD_BASECASE_38_PORO.dat']\n"
     ]
    }
   ],
   "source": [
    "property_file_names = np.load('property_file_names.npy')\n",
    "print(property_file_names)"
   ]
  },
  {
   "cell_type": "code",
   "execution_count": 14,
   "id": "b0be579d",
   "metadata": {},
   "outputs": [
    {
     "data": {
      "text/plain": [
       "'JD_BASECASE_38_PORO.dat'"
      ]
     },
     "execution_count": 14,
     "metadata": {},
     "output_type": "execute_result"
    }
   ],
   "source": [
    "property_file_names[11]"
   ]
  }
 ],
 "metadata": {
  "kernelspec": {
   "display_name": "base",
   "language": "python",
   "name": "python3"
  },
  "language_info": {
   "codemirror_mode": {
    "name": "ipython",
    "version": 3
   },
   "file_extension": ".py",
   "mimetype": "text/x-python",
   "name": "python",
   "nbconvert_exporter": "python",
   "pygments_lexer": "ipython3",
   "version": "3.12.4"
  }
 },
 "nbformat": 4,
 "nbformat_minor": 5
}
